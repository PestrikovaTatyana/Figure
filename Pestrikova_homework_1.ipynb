{
  "nbformat": 4,
  "nbformat_minor": 0,
  "metadata": {
    "colab": {
      "name": "Pestrikova_homework_1",
      "provenance": [],
      "collapsed_sections": [
        "4nyGXFxQUQ1a",
        "hbuEF-OJah-B",
        "qlQzys3-HgEn",
        "mYkhVBuaa95E",
        "gEYadKBXzJ-E"
      ],
      "include_colab_link": true
    },
    "kernelspec": {
      "name": "python3",
      "display_name": "Python 3"
    },
    "accelerator": "GPU"
  },
  "cells": [
    {
      "cell_type": "markdown",
      "metadata": {
        "id": "view-in-github",
        "colab_type": "text"
      },
      "source": [
        "<a href=\"https://colab.research.google.com/github/PestrikovaTatyana/Figure/blob/master/Pestrikova_homework_1.ipynb\" target=\"_parent\"><img src=\"https://colab.research.google.com/assets/colab-badge.svg\" alt=\"Open In Colab\"/></a>"
      ]
    },
    {
      "cell_type": "markdown",
      "metadata": {
        "id": "ixhxmjTjafgq",
        "colab_type": "text"
      },
      "source": [
        "#****Домашнее задание №1****\n",
        "*июльский курс - 2020 PRO*\n"
      ]
    },
    {
      "cell_type": "markdown",
      "metadata": {
        "id": "hAr45_SmbGvi",
        "colab_type": "text"
      },
      "source": [
        "##***LIGHT***"
      ]
    },
    {
      "cell_type": "markdown",
      "metadata": {
        "id": "JSMSfKcWbP8Q",
        "colab_type": "text"
      },
      "source": [
        "###$Вариант 1$"
      ]
    },
    {
      "cell_type": "markdown",
      "metadata": {
        "id": "GuGAyUD9bZ8R",
        "colab_type": "text"
      },
      "source": [
        "Перепишите ноутбук по распознаванию рукописных цифр, восстановив следующие операции:\n",
        ">1. Импорт библиотек.\n",
        ">2. Загрузка базы mnist.\n",
        ">3. Нормирование и преобразование x_train и y_train.\n",
        ">4. Создание нейронной сети.\n",
        ">5. Обучение нейронной сети.\n",
        "\n"
      ]
    },
    {
      "cell_type": "code",
      "metadata": {
        "id": "qJUobfGKabPA",
        "colab_type": "code",
        "colab": {}
      },
      "source": [
        "#Подключение различного рода библиотек и настройка вывода\n",
        "from tensorflow.keras.datasets import mnist  #Подтягиваю библиотеку с базой Mnist\n",
        "from tensorflow.keras.models import Sequential #Класс модели сети прямого распространения\n",
        "from tensorflow.keras.layers import Dense #Класс полносвязный слой\n",
        "from tensorflow.keras.layers import Dropout #Класс полносвязный слой\n",
        "from tensorflow.keras.optimizers import Adam #Подключаю библиотеку оптимизаторов\n",
        "from tensorflow.keras import utils #Утилиты для to_categorical\n",
        "from tensorflow.keras.preprocessing import image #Для отрисовки изображения\n",
        "import numpy as np #Подключение библиотеки numpy\n",
        "import pylab #Подключение модуля для построения графиков\n",
        "from mpl_toolkits.mplot3d import Axes3D #Подключение модуля для трехмерной графики\n",
        "from google.colab import files #Команда для загрузки своей картинки\n",
        "import matplotlib.pyplot as plt #Подключаем отрисовку изображений\n",
        "from PIL import Image #Отрисовка изображений\n",
        "#Отрисовка изображения для вывода в ноутбук\n",
        "%matplotlib inline"
      ],
      "execution_count": null,
      "outputs": []
    },
    {
      "cell_type": "code",
      "metadata": {
        "id": "ujWbicVIkuRN",
        "colab_type": "code",
        "colab": {
          "base_uri": "https://localhost:8080/",
          "height": 88
        },
        "outputId": "857e8657-2fd0-4fd6-adac-7b7bcf2496b6"
      },
      "source": [
        "#Загрузка данных из библиотеки Mnist\n",
        "(x_train_org, y_train_org), (x_test_org, y_test_org) = mnist.load_data()\n",
        "x_train_org[0].shape"
      ],
      "execution_count": null,
      "outputs": [
        {
          "output_type": "stream",
          "text": [
            "Downloading data from https://storage.googleapis.com/tensorflow/tf-keras-datasets/mnist.npz\n",
            "11493376/11490434 [==============================] - 0s 0us/step\n"
          ],
          "name": "stdout"
        },
        {
          "output_type": "execute_result",
          "data": {
            "text/plain": [
              "(28, 28)"
            ]
          },
          "metadata": {
            "tags": []
          },
          "execution_count": 2
        }
      ]
    },
    {
      "cell_type": "code",
      "metadata": {
        "id": "Y-RSGU3Urayr",
        "colab_type": "code",
        "colab": {
          "base_uri": "https://localhost:8080/",
          "height": 265
        },
        "outputId": "8469f471-1d4e-4104-ede6-332cd382bb3d"
      },
      "source": [
        "#Смотрю картинки и типы отрисовок\n",
        "n = 7\n",
        "plt.imshow(x_train_org[n], cmap='binary')#Отрисовываю картинку\n",
        "plt.show() #Вывожу картинку (из-за %matplotlib inline вывод в ноутбук)"
      ],
      "execution_count": null,
      "outputs": [
        {
          "output_type": "display_data",
          "data": {
            "image/png": "[encoded data removed]",
            "text/plain": [
              "<Figure size 432x288 with 1 Axes>"
            ]
          },
          "metadata": {
            "tags": [],
            "needs_background": "light"
          }
        }
      ]
    },
    {
      "cell_type": "code",
      "metadata": {
        "id": "emO3aSltr9QX",
        "colab_type": "code",
        "colab": {
          "base_uri": "https://localhost:8080/",
          "height": 51
        },
        "outputId": "e2a7d4be-bc3a-4a8d-a050-7785c5592959"
      },
      "source": [
        "#Меняю формат входных картинок с 28х28 на 784х1\n",
        "x_train = x_train_org.reshape(60000, 784)\n",
        "print(x_train_org.shape)\n",
        "print(x_train.shape)\n",
        "x_test=x_test_org.reshape(10000,784)"
      ],
      "execution_count": null,
      "outputs": [
        {
          "output_type": "stream",
          "text": [
            "(60000, 28, 28)\n",
            "(60000, 784)\n"
          ],
          "name": "stdout"
        }
      ]
    },
    {
      "cell_type": "code",
      "metadata": {
        "id": "HtA07ZkU2Zjy",
        "colab_type": "code",
        "colab": {}
      },
      "source": [
        "#Нормализую входные картинки\n",
        "x_train= x_train.astype('float32')\n",
        "x_train=x_train/255\n",
        "x_test=x_test.astype('float32')\n",
        "x_test=x_test/255"
      ],
      "execution_count": null,
      "outputs": []
    },
    {
      "cell_type": "code",
      "metadata": {
        "id": "aJVF5jWt3a_8",
        "colab_type": "code",
        "colab": {}
      },
      "source": [
        "#Преобразую ответы в формат one_hot_enoding\n",
        "y_train=utils.to_categorical(y_train_org,10)\n",
        "y_test=utils.to_categorical(y_test_org, 10)"
      ],
      "execution_count": null,
      "outputs": []
    },
    {
      "cell_type": "code",
      "metadata": {
        "id": "a-fnDswy4yi4",
        "colab_type": "code",
        "colab": {
          "base_uri": "https://localhost:8080/",
          "height": 85
        },
        "outputId": "c25044dc-3a9b-4343-e8a8-ec4b9a588cee"
      },
      "source": [
        "#Посмотрю размер y_train, должен быть массив из 60000 строк по 10 столбцов каждая\n",
        "print(y_train.shape)\n",
        "print(y_train_org.shape)\n",
        "print(y_train[7])\n",
        "print(y_train_org[7])\n",
        "\n"
      ],
      "execution_count": null,
      "outputs": [
        {
          "output_type": "stream",
          "text": [
            "(60000, 10)\n",
            "(60000,)\n",
            "[0. 0. 0. 1. 0. 0. 0. 0. 0. 0.]\n",
            "3\n"
          ],
          "name": "stdout"
        }
      ]
    },
    {
      "cell_type": "code",
      "metadata": {
        "id": "3MLGdZgr5SG4",
        "colab_type": "code",
        "colab": {}
      },
      "source": [
        "#Создана нейронная сеть прямого распространения\n",
        "simpleModel=Sequential()\n",
        "#Добавляю 1 полносвязный слой\n",
        "#На выходе слоя 800 нейронов\n",
        "#На входе 784 ячейки картинки, [W1]=784x800\n",
        "#Функция активации relu\n",
        "simpleModel.add(Dense(800,input_dim=784,activation='relu')) \n",
        "#Добавляю 2 полносвязный слой \n",
        "#На выходе слоя 400 нейронов\n",
        "#На входе 800 нейронов предыдущего слоя (что не указывается), [W2]=800x400\n",
        "#Функция активации relu\n",
        "simpleModel.add(Dense(400,activation='relu'))\n",
        "#Добавляю 3 полносвязный слой \n",
        "#На выходе слоя 10 нейронов, как по количеству категорий в y\n",
        "#На входе 400 нейронов предыдущего слоя (что не указывается), [W3]=400x10\n",
        "#Функция активации softmax (чтобы в сумме на всем выходе было не больше 1)\n",
        "simpleModel.add(Dense(10,activation='softmax'))\n"
      ],
      "execution_count": null,
      "outputs": []
    },
    {
      "cell_type": "code",
      "metadata": {
        "id": "HBD2cJlWIhIJ",
        "colab_type": "code",
        "colab": {
          "base_uri": "https://localhost:8080/",
          "height": 272
        },
        "outputId": "2eaf0e5f-d652-4253-a99d-4230ccaea47b"
      },
      "source": [
        "#Готовлю модель к обучению и задам параметры, какой будет оптимизация (compile)\n",
        "#Ошибку будем считать loss='categorical_crossentropy'\n",
        "#Метод градиентного спуска в поиске минимума optimizer='adam'\n",
        "#Вывод разницы между численными рассчетами и y_train/y_test по совпадению metrics=['accuracy']\n",
        "simpleModel.compile(loss='categorical_crossentropy',optimizer='adam',metrics=['accuracy'])\n",
        "#Вывожу структуру модели\n",
        "print(simpleModel.summary())"
      ],
      "execution_count": null,
      "outputs": [
        {
          "output_type": "stream",
          "text": [
            "Model: \"sequential\"\n",
            "_________________________________________________________________\n",
            "Layer (type)                 Output Shape              Param #   \n",
            "=================================================================\n",
            "dense (Dense)                (None, 800)               628000    \n",
            "_________________________________________________________________\n",
            "dense_1 (Dense)              (None, 400)               320400    \n",
            "_________________________________________________________________\n",
            "dense_2 (Dense)              (None, 10)                4010      \n",
            "=================================================================\n",
            "Total params: 952,410\n",
            "Trainable params: 952,410\n",
            "Non-trainable params: 0\n",
            "_________________________________________________________________\n",
            "None\n"
          ],
          "name": "stdout"
        }
      ]
    },
    {
      "cell_type": "code",
      "metadata": {
        "id": "7XlpeTJ4Kg09",
        "colab_type": "code",
        "colab": {
          "base_uri": "https://localhost:8080/",
          "height": 564
        },
        "outputId": "9d50c844-defa-434a-bd36-28762b71f84f"
      },
      "source": [
        "#Обучаю сеть\n",
        "#Задаю количество примеров за один проход до изменения весов batch_size\n",
        "#Задаю количество эпох, сколько раз обучается выборка по примерам размера batch_size\n",
        "#Задаю визуализацию хода обучения verbose=1\n",
        "simpleModel.fit(x_train,y_train,batch_size=128,epochs=15,verbose=1,validation_split=0.2)"
      ],
      "execution_count": null,
      "outputs": [
        {
          "output_type": "stream",
          "text": [
            "Epoch 1/15\n",
            "375/375 [==============================] - 1s 4ms/step - loss: 0.2369 - accuracy: 0.9296 - val_loss: 0.1105 - val_accuracy: 0.9670\n",
            "Epoch 2/15\n",
            "375/375 [==============================] - 1s 3ms/step - loss: 0.0828 - accuracy: 0.9753 - val_loss: 0.0871 - val_accuracy: 0.9733\n",
            "Epoch 3/15\n",
            "375/375 [==============================] - 1s 3ms/step - loss: 0.0525 - accuracy: 0.9832 - val_loss: 0.0882 - val_accuracy: 0.9737\n",
            "Epoch 4/15\n",
            "375/375 [==============================] - 1s 3ms/step - loss: 0.0354 - accuracy: 0.9885 - val_loss: 0.0809 - val_accuracy: 0.9756\n",
            "Epoch 5/15\n",
            "375/375 [==============================] - 1s 3ms/step - loss: 0.0236 - accuracy: 0.9926 - val_loss: 0.0850 - val_accuracy: 0.9778\n",
            "Epoch 6/15\n",
            "375/375 [==============================] - 1s 3ms/step - loss: 0.0212 - accuracy: 0.9931 - val_loss: 0.1019 - val_accuracy: 0.9748\n",
            "Epoch 7/15\n",
            "375/375 [==============================] - 1s 3ms/step - loss: 0.0165 - accuracy: 0.9948 - val_loss: 0.0975 - val_accuracy: 0.9751\n",
            "Epoch 8/15\n",
            "375/375 [==============================] - 1s 3ms/step - loss: 0.0192 - accuracy: 0.9935 - val_loss: 0.1019 - val_accuracy: 0.9754\n",
            "Epoch 9/15\n",
            "375/375 [==============================] - 1s 3ms/step - loss: 0.0146 - accuracy: 0.9951 - val_loss: 0.1137 - val_accuracy: 0.9747\n",
            "Epoch 10/15\n",
            "375/375 [==============================] - 1s 3ms/step - loss: 0.0143 - accuracy: 0.9952 - val_loss: 0.1071 - val_accuracy: 0.9778\n",
            "Epoch 11/15\n",
            "375/375 [==============================] - 1s 3ms/step - loss: 0.0132 - accuracy: 0.9955 - val_loss: 0.1214 - val_accuracy: 0.9751\n",
            "Epoch 12/15\n",
            "375/375 [==============================] - 1s 3ms/step - loss: 0.0116 - accuracy: 0.9959 - val_loss: 0.1106 - val_accuracy: 0.9772\n",
            "Epoch 13/15\n",
            "375/375 [==============================] - 1s 3ms/step - loss: 0.0107 - accuracy: 0.9962 - val_loss: 0.1140 - val_accuracy: 0.9759\n",
            "Epoch 14/15\n",
            "375/375 [==============================] - 1s 3ms/step - loss: 0.0068 - accuracy: 0.9979 - val_loss: 0.0972 - val_accuracy: 0.9806\n",
            "Epoch 15/15\n",
            "375/375 [==============================] - 1s 3ms/step - loss: 0.0075 - accuracy: 0.9973 - val_loss: 0.1117 - val_accuracy: 0.9774\n"
          ],
          "name": "stdout"
        },
        {
          "output_type": "execute_result",
          "data": {
            "text/plain": [
              "<tensorflow.python.keras.callbacks.History at 0x7fc710031e80>"
            ]
          },
          "metadata": {
            "tags": []
          },
          "execution_count": 10
        }
      ]
    },
    {
      "cell_type": "code",
      "metadata": {
        "id": "0CSRy-3RPRtC",
        "colab_type": "code",
        "colab": {}
      },
      "source": [
        "#Сохраняем полученные веса модели\n",
        "simpleModel.save_weights('model.h5')\n",
        "simpleModel.load_weights('model.h5')"
      ],
      "execution_count": null,
      "outputs": []
    },
    {
      "cell_type": "code",
      "metadata": {
        "id": "0oe8yHQ4P-cQ",
        "colab_type": "code",
        "colab": {
          "base_uri": "https://localhost:8080/",
          "height": 282
        },
        "outputId": "d45cc005-9e12-4776-dead-36c4602404f0"
      },
      "source": [
        "#Попробуем распознать тестовую цифру\n",
        "n_rec=4587\n",
        "plt.imshow(Image.fromarray(x_test_org[n_rec]).convert('RGBA'))\n",
        "plt.show()\n",
        "print(x_test_org[n_rec].shape)\n"
      ],
      "execution_count": null,
      "outputs": [
        {
          "output_type": "display_data",
          "data": {
            "image/png": "[encoded data removed]",
            "text/plain": [
              "<Figure size 432x288 with 1 Axes>"
            ]
          },
          "metadata": {
            "tags": [],
            "needs_background": "light"
          }
        },
        {
          "output_type": "stream",
          "text": [
            "(28, 28)\n"
          ],
          "name": "stdout"
        }
      ]
    },
    {
      "cell_type": "code",
      "metadata": {
        "id": "eqrYMe-PRDYF",
        "colab_type": "code",
        "colab": {
          "base_uri": "https://localhost:8080/",
          "height": 34
        },
        "outputId": "27a63746-9dc8-4a38-f78f-9c0cbf59607d"
      },
      "source": [
        "#Сохраним численное представление данной картинки в отдельй вектор\n",
        "x=x_test[n_rec]\n",
        "print(x.shape)"
      ],
      "execution_count": null,
      "outputs": [
        {
          "output_type": "stream",
          "text": [
            "(784,)\n"
          ],
          "name": "stdout"
        }
      ]
    },
    {
      "cell_type": "code",
      "metadata": {
        "id": "cV869I75Runp",
        "colab_type": "code",
        "colab": {
          "base_uri": "https://localhost:8080/",
          "height": 34
        },
        "outputId": "68912bbc-8de5-4133-bf46-5e849d48df99"
      },
      "source": [
        "#Добавляю одну размерность в конец, для совпадения типов данных\n",
        "#То есть делаю именно массив примеров, массив из 1 примера\n",
        "x=np.expand_dims(x, axis=0)\n",
        "print(x.shape)"
      ],
      "execution_count": null,
      "outputs": [
        {
          "output_type": "stream",
          "text": [
            "(1, 784)\n"
          ],
          "name": "stdout"
        }
      ]
    },
    {
      "cell_type": "code",
      "metadata": {
        "id": "FUSxOtxRSMfR",
        "colab_type": "code",
        "colab": {
          "base_uri": "https://localhost:8080/",
          "height": 187
        },
        "outputId": "e464e51a-4d40-4162-faa8-6bd34f2d454c"
      },
      "source": [
        "#В переменную recPrediction (строка на 10 столбцов) записываю результат\n",
        "#распознавания цифры построенной сетью и вывожу его\n",
        "recPrediction=simpleModel.predict(x)\n",
        "k=0\n",
        "for i in recPrediction[0]:\n",
        "  print(k,round(i,6))\n",
        "  k+=1"
      ],
      "execution_count": null,
      "outputs": [
        {
          "output_type": "stream",
          "text": [
            "0 0.0\n",
            "1 0.0\n",
            "2 0.0\n",
            "3 0.0\n",
            "4 0.0\n",
            "5 0.0\n",
            "6 1.0\n",
            "7 0.0\n",
            "8 0.0\n",
            "9 0.0\n"
          ],
          "name": "stdout"
        }
      ]
    },
    {
      "cell_type": "code",
      "metadata": {
        "id": "RCwQTE-xS-AQ",
        "colab_type": "code",
        "colab": {
          "base_uri": "https://localhost:8080/",
          "height": 34
        },
        "outputId": "b6b72e5f-e923-409c-b105-913ff201866c"
      },
      "source": [
        "#В переменную prediction запишу какую именно цифру предсказывает сеть (с наибольшей вероятностью)\n",
        "prediction=np.argmax(recPrediction)\n",
        "print(prediction)"
      ],
      "execution_count": null,
      "outputs": [
        {
          "output_type": "stream",
          "text": [
            "6\n"
          ],
          "name": "stdout"
        }
      ]
    },
    {
      "cell_type": "markdown",
      "metadata": {
        "id": "4nyGXFxQUQ1a",
        "colab_type": "text"
      },
      "source": [
        "###$Вариант 2$"
      ]
    },
    {
      "cell_type": "markdown",
      "metadata": {
        "id": "cQ3JVb2aU-VI",
        "colab_type": "text"
      },
      "source": [
        ">Проведите серию экспериментов по перебору гиперпараметров нейронной сети, созданной на занятии.\n",
        ">>1. Поменяйте количество нейронов в сети, используя следующие значения:\n",
        ">>>* один слой 10 нейронов\n",
        ">>>* один слой 100 нейронов\n",
        ">>>* один слой 5000 нейронов\n",
        ">>2. Поменяйте активационную функцию в скрытых слоях с relu на linear.\n",
        ">>3. Поменяйте размеры batch_size:\n",
        ">>>* 1\n",
        ">>>* 10\n",
        ">>>* 100\n",
        ">>>* Вся база (60000)\n",
        ">>4. Запишите в таблицу получившиеся точности.\n",
        ">>5. Напишите выводы по результатам проведенных тестов.\n",
        "\n",
        "\n",
        "\n",
        "\n"
      ]
    },
    {
      "cell_type": "markdown",
      "metadata": {
        "id": "hbuEF-OJah-B",
        "colab_type": "text"
      },
      "source": [
        "#### Задание 1"
      ]
    },
    {
      "cell_type": "code",
      "metadata": {
        "id": "ENKs69aOUehc",
        "colab_type": "code",
        "colab": {
          "base_uri": "https://localhost:8080/",
          "height": 544
        },
        "outputId": "c6ad0986-be53-4799-9f0b-57e4d3b9fa93"
      },
      "source": [
        "#Выполнение пункта 1 задания\n",
        "#Создаю последовательную модель нейронной сети на 10 нейронов во внутреннем слое\n",
        "#Для чистоты эксперимента возьмем модель с двумя слоями, последний слой по условию из 10 нейронов\n",
        "relu10NeuronsNet=Sequential()\n",
        "relu10NeuronsNet.add(Dense(10,input_dim=784,activation='relu'))\n",
        "relu10NeuronsNet.add(Dense(10,activation='softmax'))\n",
        "relu10NeuronsNet.compile(loss='categorical_crossentropy',optimizer='adam',metrics=['accuracy'])\n",
        "relu10NeuronsNet.fit(x_train,y_train,batch_size=128,epochs=15,verbose=1,validation_split=0.2)"
      ],
      "execution_count": null,
      "outputs": [
        {
          "output_type": "stream",
          "text": [
            "Epoch 1/15\n",
            "375/375 [==============================] - 1s 3ms/step - loss: 0.9066 - accuracy: 0.7445 - val_loss: 0.4453 - val_accuracy: 0.8783\n",
            "Epoch 2/15\n",
            "375/375 [==============================] - 1s 3ms/step - loss: 0.3974 - accuracy: 0.8902 - val_loss: 0.3346 - val_accuracy: 0.9028\n",
            "Epoch 3/15\n",
            "375/375 [==============================] - 1s 3ms/step - loss: 0.3313 - accuracy: 0.9060 - val_loss: 0.3021 - val_accuracy: 0.9131\n",
            "Epoch 4/15\n",
            "375/375 [==============================] - 1s 3ms/step - loss: 0.3037 - accuracy: 0.9148 - val_loss: 0.2838 - val_accuracy: 0.9202\n",
            "Epoch 5/15\n",
            "375/375 [==============================] - 1s 3ms/step - loss: 0.2890 - accuracy: 0.9186 - val_loss: 0.2757 - val_accuracy: 0.9214\n",
            "Epoch 6/15\n",
            "375/375 [==============================] - 1s 3ms/step - loss: 0.2776 - accuracy: 0.9224 - val_loss: 0.2670 - val_accuracy: 0.9237\n",
            "Epoch 7/15\n",
            "375/375 [==============================] - 1s 3ms/step - loss: 0.2687 - accuracy: 0.9247 - val_loss: 0.2631 - val_accuracy: 0.9262\n",
            "Epoch 8/15\n",
            "375/375 [==============================] - 1s 3ms/step - loss: 0.2627 - accuracy: 0.9262 - val_loss: 0.2591 - val_accuracy: 0.9265\n",
            "Epoch 9/15\n",
            "375/375 [==============================] - 1s 3ms/step - loss: 0.2564 - accuracy: 0.9274 - val_loss: 0.2597 - val_accuracy: 0.9245\n",
            "Epoch 10/15\n",
            "375/375 [==============================] - 1s 3ms/step - loss: 0.2524 - accuracy: 0.9286 - val_loss: 0.2528 - val_accuracy: 0.9298\n",
            "Epoch 11/15\n",
            "375/375 [==============================] - 1s 3ms/step - loss: 0.2476 - accuracy: 0.9307 - val_loss: 0.2505 - val_accuracy: 0.9302\n",
            "Epoch 12/15\n",
            "375/375 [==============================] - 1s 3ms/step - loss: 0.2444 - accuracy: 0.9310 - val_loss: 0.2512 - val_accuracy: 0.9293\n",
            "Epoch 13/15\n",
            "375/375 [==============================] - 1s 3ms/step - loss: 0.2415 - accuracy: 0.9321 - val_loss: 0.2468 - val_accuracy: 0.9308\n",
            "Epoch 14/15\n",
            "375/375 [==============================] - 1s 3ms/step - loss: 0.2378 - accuracy: 0.9331 - val_loss: 0.2464 - val_accuracy: 0.9324\n",
            "Epoch 15/15\n",
            "375/375 [==============================] - 1s 3ms/step - loss: 0.2351 - accuracy: 0.9347 - val_loss: 0.2468 - val_accuracy: 0.9313\n"
          ],
          "name": "stdout"
        },
        {
          "output_type": "execute_result",
          "data": {
            "text/plain": [
              "<tensorflow.python.keras.callbacks.History at 0x7fda9a7eccc0>"
            ]
          },
          "metadata": {
            "tags": []
          },
          "execution_count": 18
        }
      ]
    },
    {
      "cell_type": "code",
      "metadata": {
        "id": "2uzXEA20ywB2",
        "colab_type": "code",
        "colab": {
          "base_uri": "https://localhost:8080/",
          "height": 544
        },
        "outputId": "a621b25f-50a4-4473-f33a-15febc4960d4"
      },
      "source": [
        "#Выполнение пункта 1 задания\n",
        "#Создаю последовательную модель нейронной сети на 100 нейронов во внутреннем слое\n",
        "#Для чистоты эксперимента возьмем модель с двумя слоями, последний слой по условию из 10 нейронов\n",
        "relu100NeuronsNet=Sequential()\n",
        "relu100NeuronsNet.add(Dense(100,input_dim=784,activation='relu'))\n",
        "relu100NeuronsNet.add(Dense(10,activation='softmax'))\n",
        "relu100NeuronsNet.compile(loss='categorical_crossentropy',optimizer='adam',metrics=['accuracy'])\n",
        "relu100NeuronsNet.fit(x_train,y_train,batch_size=128,epochs=15,verbose=1,validation_split=0.2)"
      ],
      "execution_count": null,
      "outputs": [
        {
          "output_type": "stream",
          "text": [
            "Epoch 1/15\n",
            "375/375 [==============================] - 1s 3ms/step - loss: 0.4223 - accuracy: 0.8848 - val_loss: 0.2288 - val_accuracy: 0.9363\n",
            "Epoch 2/15\n",
            "375/375 [==============================] - 1s 3ms/step - loss: 0.1940 - accuracy: 0.9448 - val_loss: 0.1660 - val_accuracy: 0.9536\n",
            "Epoch 3/15\n",
            "375/375 [==============================] - 1s 3ms/step - loss: 0.1441 - accuracy: 0.9592 - val_loss: 0.1384 - val_accuracy: 0.9611\n",
            "Epoch 4/15\n",
            "375/375 [==============================] - 1s 3ms/step - loss: 0.1160 - accuracy: 0.9669 - val_loss: 0.1207 - val_accuracy: 0.9643\n",
            "Epoch 5/15\n",
            "375/375 [==============================] - 1s 3ms/step - loss: 0.0950 - accuracy: 0.9728 - val_loss: 0.1151 - val_accuracy: 0.9678\n",
            "Epoch 6/15\n",
            "375/375 [==============================] - 1s 3ms/step - loss: 0.0802 - accuracy: 0.9764 - val_loss: 0.1078 - val_accuracy: 0.9688\n",
            "Epoch 7/15\n",
            "375/375 [==============================] - 1s 3ms/step - loss: 0.0686 - accuracy: 0.9804 - val_loss: 0.1006 - val_accuracy: 0.9712\n",
            "Epoch 8/15\n",
            "375/375 [==============================] - 1s 3ms/step - loss: 0.0598 - accuracy: 0.9835 - val_loss: 0.0988 - val_accuracy: 0.9726\n",
            "Epoch 9/15\n",
            "375/375 [==============================] - 1s 3ms/step - loss: 0.0506 - accuracy: 0.9857 - val_loss: 0.0947 - val_accuracy: 0.9728\n",
            "Epoch 10/15\n",
            "375/375 [==============================] - 1s 3ms/step - loss: 0.0444 - accuracy: 0.9876 - val_loss: 0.0927 - val_accuracy: 0.9724\n",
            "Epoch 11/15\n",
            "375/375 [==============================] - 1s 3ms/step - loss: 0.0394 - accuracy: 0.9893 - val_loss: 0.0896 - val_accuracy: 0.9743\n",
            "Epoch 12/15\n",
            "375/375 [==============================] - 1s 3ms/step - loss: 0.0347 - accuracy: 0.9906 - val_loss: 0.0899 - val_accuracy: 0.9734\n",
            "Epoch 13/15\n",
            "375/375 [==============================] - 1s 3ms/step - loss: 0.0291 - accuracy: 0.9926 - val_loss: 0.0881 - val_accuracy: 0.9746\n",
            "Epoch 14/15\n",
            "375/375 [==============================] - 1s 3ms/step - loss: 0.0254 - accuracy: 0.9939 - val_loss: 0.0878 - val_accuracy: 0.9747\n",
            "Epoch 15/15\n",
            "375/375 [==============================] - 1s 3ms/step - loss: 0.0224 - accuracy: 0.9950 - val_loss: 0.0924 - val_accuracy: 0.9751\n"
          ],
          "name": "stdout"
        },
        {
          "output_type": "execute_result",
          "data": {
            "text/plain": [
              "<tensorflow.python.keras.callbacks.History at 0x7fda9a62f898>"
            ]
          },
          "metadata": {
            "tags": []
          },
          "execution_count": 19
        }
      ]
    },
    {
      "cell_type": "code",
      "metadata": {
        "id": "BpZO7vpT1Mp5",
        "colab_type": "code",
        "colab": {
          "base_uri": "https://localhost:8080/",
          "height": 544
        },
        "outputId": "9c8f1d96-a7b2-4f7a-8355-c9e62db2f7c8"
      },
      "source": [
        "#Выполнение пункта 1 задания\n",
        "#Создаю последовательную модель нейронной сети на 5000 нейронов во внутреннем слое\n",
        "#Для чистоты эксперимента возьмем модель с двумя слоями, последний слой по условию из 10 нейронов\n",
        "relu5000NeuronsNet=Sequential()\n",
        "relu5000NeuronsNet.add(Dense(5000,input_dim=784,activation='relu'))\n",
        "relu5000NeuronsNet.add(Dense(10,activation='softmax'))\n",
        "relu5000NeuronsNet.compile(loss='categorical_crossentropy',optimizer='adam',metrics=['accuracy'])\n",
        "relu5000NeuronsNet.fit(x_train,y_train,batch_size=128,epochs=15,verbose=1,validation_split=0.2)"
      ],
      "execution_count": null,
      "outputs": [
        {
          "output_type": "stream",
          "text": [
            "Epoch 1/15\n",
            "375/375 [==============================] - 2s 4ms/step - loss: 0.2149 - accuracy: 0.9353 - val_loss: 0.1064 - val_accuracy: 0.9669\n",
            "Epoch 2/15\n",
            "375/375 [==============================] - 1s 4ms/step - loss: 0.0785 - accuracy: 0.9763 - val_loss: 0.0891 - val_accuracy: 0.9711\n",
            "Epoch 3/15\n",
            "375/375 [==============================] - 1s 4ms/step - loss: 0.0486 - accuracy: 0.9845 - val_loss: 0.0817 - val_accuracy: 0.9743\n",
            "Epoch 4/15\n",
            "375/375 [==============================] - 1s 4ms/step - loss: 0.0300 - accuracy: 0.9902 - val_loss: 0.0889 - val_accuracy: 0.9743\n",
            "Epoch 5/15\n",
            "375/375 [==============================] - 1s 4ms/step - loss: 0.0219 - accuracy: 0.9925 - val_loss: 0.0793 - val_accuracy: 0.9771\n",
            "Epoch 6/15\n",
            "375/375 [==============================] - 1s 4ms/step - loss: 0.0181 - accuracy: 0.9938 - val_loss: 0.0825 - val_accuracy: 0.9783\n",
            "Epoch 7/15\n",
            "375/375 [==============================] - 1s 4ms/step - loss: 0.0128 - accuracy: 0.9958 - val_loss: 0.0886 - val_accuracy: 0.9784\n",
            "Epoch 8/15\n",
            "375/375 [==============================] - 1s 4ms/step - loss: 0.0109 - accuracy: 0.9965 - val_loss: 0.0815 - val_accuracy: 0.9798\n",
            "Epoch 9/15\n",
            "375/375 [==============================] - 1s 4ms/step - loss: 0.0137 - accuracy: 0.9954 - val_loss: 0.1028 - val_accuracy: 0.9768\n",
            "Epoch 10/15\n",
            "375/375 [==============================] - 1s 4ms/step - loss: 0.0123 - accuracy: 0.9960 - val_loss: 0.0989 - val_accuracy: 0.9783\n",
            "Epoch 11/15\n",
            "375/375 [==============================] - 1s 4ms/step - loss: 0.0111 - accuracy: 0.9964 - val_loss: 0.0936 - val_accuracy: 0.9783\n",
            "Epoch 12/15\n",
            "375/375 [==============================] - 1s 4ms/step - loss: 0.0078 - accuracy: 0.9976 - val_loss: 0.0958 - val_accuracy: 0.9797\n",
            "Epoch 13/15\n",
            "375/375 [==============================] - 1s 4ms/step - loss: 0.0067 - accuracy: 0.9979 - val_loss: 0.1028 - val_accuracy: 0.9790\n",
            "Epoch 14/15\n",
            "375/375 [==============================] - 1s 4ms/step - loss: 0.0098 - accuracy: 0.9967 - val_loss: 0.1291 - val_accuracy: 0.9751\n",
            "Epoch 15/15\n",
            "375/375 [==============================] - 1s 4ms/step - loss: 0.0097 - accuracy: 0.9968 - val_loss: 0.1051 - val_accuracy: 0.9798\n"
          ],
          "name": "stdout"
        },
        {
          "output_type": "execute_result",
          "data": {
            "text/plain": [
              "<tensorflow.python.keras.callbacks.History at 0x7fda9a52c278>"
            ]
          },
          "metadata": {
            "tags": []
          },
          "execution_count": 20
        }
      ]
    },
    {
      "cell_type": "code",
      "metadata": {
        "id": "kS3ngbDM28xG",
        "colab_type": "code",
        "colab": {
          "base_uri": "https://localhost:8080/",
          "height": 34
        },
        "outputId": "30181275-2b3f-449f-a5fe-6d996a8af8d0"
      },
      "source": [
        " #Распознаем наш пример, который лежит в x\n",
        " #Занесем предсказываемое значение в переменную prediction, переменная постоянно обновляется\n",
        " # в ней хранится всегда прогнозируемая цифра каждой испытываемой модели\n",
        "relu10NeuronsPrediction=relu10NeuronsNet(x)\n",
        "prediction=np.argmax(relu10NeuronsPrediction)\n",
        "print(prediction)"
      ],
      "execution_count": null,
      "outputs": [
        {
          "output_type": "stream",
          "text": [
            "6\n"
          ],
          "name": "stdout"
        }
      ]
    },
    {
      "cell_type": "code",
      "metadata": {
        "id": "KQxq7tnA4Ykz",
        "colab_type": "code",
        "colab": {
          "base_uri": "https://localhost:8080/",
          "height": 34
        },
        "outputId": "fd4cffd7-151f-47c2-ed14-4cdd4a3491e7"
      },
      "source": [
        "relu100NeuronsPrediction=relu100NeuronsNet(x)\n",
        "prediction=np.argmax(relu100NeuronsPrediction)\n",
        "print(prediction)"
      ],
      "execution_count": null,
      "outputs": [
        {
          "output_type": "stream",
          "text": [
            "6\n"
          ],
          "name": "stdout"
        }
      ]
    },
    {
      "cell_type": "code",
      "metadata": {
        "id": "1xapl4Ui43CP",
        "colab_type": "code",
        "colab": {
          "base_uri": "https://localhost:8080/",
          "height": 34
        },
        "outputId": "5908865a-2ae3-4327-97a5-7ef860712e3b"
      },
      "source": [
        "relu5000NeuronsPrediction=relu5000NeuronsNet(x)\n",
        "prediction=np.argmax(relu5000NeuronsPrediction)\n",
        "print(prediction)"
      ],
      "execution_count": null,
      "outputs": [
        {
          "output_type": "stream",
          "text": [
            "6\n"
          ],
          "name": "stdout"
        }
      ]
    },
    {
      "cell_type": "markdown",
      "metadata": {
        "id": "Z0uoPgBa5afA",
        "colab_type": "text"
      },
      "source": [
        "---\n",
        "\n",
        "$\\Big|........Model\\Big........|.loss.|Accurasy |val\\_loss|val\\_accuracy| Times .|$   \n",
        "\n",
        "---\n",
        "\n",
        "\n",
        "$\\Big|.relu10NeuronsNet.| 0.2316 |..0.9345.|.0.2439.|....0.9305...| 1 s 02 ms |$\n",
        "\n",
        "---\n",
        "$|relu100NeuronsNet.| 0.0231 |..0.9947.|.0.1001.|....0.9718...| 1 s 03 ms |$\n",
        "\n",
        "---\n",
        "$\\Big| relu5000NeuronsNet  \\Big| 0.0069 |..0.9979.|.0.1389.|....0.9749...| 22 s 60 ms |$\n",
        "\n",
        "---\n",
        "\n",
        "\n",
        "\n"
      ]
    },
    {
      "cell_type": "markdown",
      "metadata": {
        "id": "NIxoQUtED6iU",
        "colab_type": "text"
      },
      "source": [
        ">После анализа сравнительной таблицы можно прийти к выводу, что наиболее близкий к выходу результат получила модель с наибольшим числом нейронов во внутреннем слое, однако время на обучение такой модели очень большое для такой простой нейронной сети. То есть нецелесообразно вводить такой большой слой. Кроме этого по параметру accurasy модель со 100 нейронами во внутреннем слое отличается лишь на тысячные доли по отклонению численного предсказанного значения от выхода. Более того, val_loss данной модели меньше, чем у модели с 5000 нейронов во внутреннем слое.\n",
        "С точки зрения распознавания изображений все три модели показали верный результат, однако, это скорее всего связано с тем, что проверялись они пока только на примере из тестовой выборки. Поскольку ошибка сети у модели с 10 нейронами значительно выше, чем у остальных образцов, а время на обучение одной эпохи сравнимо со временем обучения модели со 100 нейронами во внутреннем слое, то считаю целесообразным выбрать данную модель за опорную  и провести еще несколько экспериментов с подбором количества нейронов во внутреннем слое для уменьшения ошибки с тем, чтобы приблизить ее к значению последней модели."
      ]
    },
    {
      "cell_type": "code",
      "metadata": {
        "id": "UwEiL4XF4-eI",
        "colab_type": "code",
        "colab": {
          "base_uri": "https://localhost:8080/",
          "height": 544
        },
        "outputId": "edb2167b-7d3d-499a-86a9-a65fa6796be9"
      },
      "source": [
        "#Наилучший найденный результат при сравнении моделей по 1 внутреннему слою\n",
        "#и вариации его количества нейронов\n",
        "relu250NeuronsNet=Sequential()\n",
        "relu250NeuronsNet.add(Dense(250,input_dim=784,activation='relu'))\n",
        "relu250NeuronsNet.add(Dense(10,activation='softmax'))\n",
        "relu250NeuronsNet.compile(loss='categorical_crossentropy',optimizer='adam',metrics=['accuracy'])\n",
        "relu250NeuronsNet.fit(x_train,y_train,batch_size=128,epochs=15,verbose=1,validation_split=0.2)\n"
      ],
      "execution_count": null,
      "outputs": [
        {
          "output_type": "stream",
          "text": [
            "Epoch 1/15\n",
            "375/375 [==============================] - 1s 3ms/step - loss: 0.3362 - accuracy: 0.9083 - val_loss: 0.1791 - val_accuracy: 0.9482\n",
            "Epoch 2/15\n",
            "375/375 [==============================] - 1s 3ms/step - loss: 0.1478 - accuracy: 0.9580 - val_loss: 0.1273 - val_accuracy: 0.9639\n",
            "Epoch 3/15\n",
            "375/375 [==============================] - 1s 3ms/step - loss: 0.1018 - accuracy: 0.9708 - val_loss: 0.1066 - val_accuracy: 0.9700\n",
            "Epoch 4/15\n",
            "375/375 [==============================] - 1s 3ms/step - loss: 0.0749 - accuracy: 0.9791 - val_loss: 0.0891 - val_accuracy: 0.9734\n",
            "Epoch 5/15\n",
            "375/375 [==============================] - 1s 3ms/step - loss: 0.0585 - accuracy: 0.9834 - val_loss: 0.0931 - val_accuracy: 0.9727\n",
            "Epoch 6/15\n",
            "375/375 [==============================] - 1s 3ms/step - loss: 0.0463 - accuracy: 0.9875 - val_loss: 0.0835 - val_accuracy: 0.9733\n",
            "Epoch 7/15\n",
            "375/375 [==============================] - 1s 3ms/step - loss: 0.0359 - accuracy: 0.9904 - val_loss: 0.0794 - val_accuracy: 0.9768\n",
            "Epoch 8/15\n",
            "375/375 [==============================] - 1s 3ms/step - loss: 0.0292 - accuracy: 0.9921 - val_loss: 0.0792 - val_accuracy: 0.9757\n",
            "Epoch 9/15\n",
            "375/375 [==============================] - 1s 3ms/step - loss: 0.0237 - accuracy: 0.9937 - val_loss: 0.0785 - val_accuracy: 0.9768\n",
            "Epoch 10/15\n",
            "375/375 [==============================] - 1s 3ms/step - loss: 0.0183 - accuracy: 0.9959 - val_loss: 0.0763 - val_accuracy: 0.9782\n",
            "Epoch 11/15\n",
            "375/375 [==============================] - 1s 3ms/step - loss: 0.0152 - accuracy: 0.9969 - val_loss: 0.0825 - val_accuracy: 0.9776\n",
            "Epoch 12/15\n",
            "375/375 [==============================] - 1s 3ms/step - loss: 0.0124 - accuracy: 0.9974 - val_loss: 0.0803 - val_accuracy: 0.9773\n",
            "Epoch 13/15\n",
            "375/375 [==============================] - 1s 3ms/step - loss: 0.0092 - accuracy: 0.9984 - val_loss: 0.0865 - val_accuracy: 0.9774\n",
            "Epoch 14/15\n",
            "375/375 [==============================] - 1s 3ms/step - loss: 0.0083 - accuracy: 0.9985 - val_loss: 0.0808 - val_accuracy: 0.9785\n",
            "Epoch 15/15\n",
            "375/375 [==============================] - 1s 3ms/step - loss: 0.0056 - accuracy: 0.9992 - val_loss: 0.0810 - val_accuracy: 0.9784\n"
          ],
          "name": "stdout"
        },
        {
          "output_type": "execute_result",
          "data": {
            "text/plain": [
              "<tensorflow.python.keras.callbacks.History at 0x7fda9a41fa20>"
            ]
          },
          "metadata": {
            "tags": []
          },
          "execution_count": 24
        }
      ]
    },
    {
      "cell_type": "markdown",
      "metadata": {
        "id": "XfIb_ZIJ_gCb",
        "colab_type": "text"
      },
      "source": [
        "Данные, показанные в модуле отличаются от приведенных в таблице. Однако они очень ценны для сделанного окончательного вывода. На тестирование такого с виду простого примера ушло много времени. Однако, здесь можно сделать вывод: в данном контексте задача очень простая, на готовой базе уже со 100 нейронами во внутреннем слое модель показывает достаточно хорошие результаты обучения. \n",
        "\n",
        "Если попытаться формализовать выбор модели, то следует описать критерий выбора модели. Будем ориентироваться на относительной ошибке в показаниях моделей, величиной 0,01%. Значит по формуле относительной ошибки модели, предсказывающие величину ошибки accuracy, равную 0.995 и выше подходят все. Так как при различных запусках и произвольном выборе весов результаты постоянно будут попадать в допустимый интервал точности.\n",
        "\n",
        "Отсюда следует вывод, что стоит подобрать нейронную сеть с близким к 100 нейронам во внутреннем слое результатом. 5000 нейронов брать не обязательно и избыточно для задачи. Я остановилась на 250 нейронах во внутреннем слое. \n",
        "\n"
      ]
    },
    {
      "cell_type": "markdown",
      "metadata": {
        "id": "qlQzys3-HgEn",
        "colab_type": "text"
      },
      "source": [
        "####Задание 2. Поменяйте активационную функцию в скрытых слоях с relu на linear."
      ]
    },
    {
      "cell_type": "code",
      "metadata": {
        "id": "ZlL-moiwFooH",
        "colab_type": "code",
        "colab": {
          "base_uri": "https://localhost:8080/",
          "height": 544
        },
        "outputId": "3acdc9c2-3179-481f-8f0c-c2e5fb8935c3"
      },
      "source": [
        "#Выполнение пункта 2 задания\n",
        "#Создаю последовательную модель нейронной сети на 10 нейронов во внутреннем слое\n",
        "linear10NeuronsNet=Sequential()\n",
        "linear10NeuronsNet.add(Dense(10,input_dim=784,activation='linear'))\n",
        "linear10NeuronsNet.add(Dense(10,activation='softmax'))\n",
        "linear10NeuronsNet.compile(loss='categorical_crossentropy',optimizer='adam',metrics=['accuracy'])\n",
        "linear10NeuronsNet.fit(x_train,y_train,batch_size=128,epochs=15,verbose=1,validation_split=0.2)"
      ],
      "execution_count": null,
      "outputs": [
        {
          "output_type": "stream",
          "text": [
            "Epoch 1/15\n",
            "375/375 [==============================] - 1s 3ms/step - loss: 0.7535 - accuracy: 0.7988 - val_loss: 0.3795 - val_accuracy: 0.8966\n",
            "Epoch 2/15\n",
            "375/375 [==============================] - 1s 3ms/step - loss: 0.3581 - accuracy: 0.9005 - val_loss: 0.3060 - val_accuracy: 0.9145\n",
            "Epoch 3/15\n",
            "375/375 [==============================] - 1s 3ms/step - loss: 0.3149 - accuracy: 0.9114 - val_loss: 0.2864 - val_accuracy: 0.9191\n",
            "Epoch 4/15\n",
            "375/375 [==============================] - 1s 3ms/step - loss: 0.2967 - accuracy: 0.9171 - val_loss: 0.2774 - val_accuracy: 0.9227\n",
            "Epoch 5/15\n",
            "375/375 [==============================] - 1s 3ms/step - loss: 0.2857 - accuracy: 0.9204 - val_loss: 0.2719 - val_accuracy: 0.9237\n",
            "Epoch 6/15\n",
            "375/375 [==============================] - 1s 3ms/step - loss: 0.2787 - accuracy: 0.9213 - val_loss: 0.2673 - val_accuracy: 0.9261\n",
            "Epoch 7/15\n",
            "375/375 [==============================] - 1s 3ms/step - loss: 0.2728 - accuracy: 0.9238 - val_loss: 0.2652 - val_accuracy: 0.9268\n",
            "Epoch 8/15\n",
            "375/375 [==============================] - 1s 3ms/step - loss: 0.2686 - accuracy: 0.9244 - val_loss: 0.2650 - val_accuracy: 0.9261\n",
            "Epoch 9/15\n",
            "375/375 [==============================] - 1s 3ms/step - loss: 0.2650 - accuracy: 0.9259 - val_loss: 0.2646 - val_accuracy: 0.9269\n",
            "Epoch 10/15\n",
            "375/375 [==============================] - 1s 3ms/step - loss: 0.2621 - accuracy: 0.9270 - val_loss: 0.2600 - val_accuracy: 0.9303\n",
            "Epoch 11/15\n",
            "375/375 [==============================] - 1s 3ms/step - loss: 0.2596 - accuracy: 0.9274 - val_loss: 0.2602 - val_accuracy: 0.9298\n",
            "Epoch 12/15\n",
            "375/375 [==============================] - 1s 3ms/step - loss: 0.2575 - accuracy: 0.9281 - val_loss: 0.2647 - val_accuracy: 0.9275\n",
            "Epoch 13/15\n",
            "375/375 [==============================] - 1s 3ms/step - loss: 0.2555 - accuracy: 0.9281 - val_loss: 0.2636 - val_accuracy: 0.9278\n",
            "Epoch 14/15\n",
            "375/375 [==============================] - 1s 3ms/step - loss: 0.2540 - accuracy: 0.9292 - val_loss: 0.2614 - val_accuracy: 0.9277\n",
            "Epoch 15/15\n",
            "375/375 [==============================] - 1s 3ms/step - loss: 0.2520 - accuracy: 0.9298 - val_loss: 0.2631 - val_accuracy: 0.9274\n"
          ],
          "name": "stdout"
        },
        {
          "output_type": "execute_result",
          "data": {
            "text/plain": [
              "<tensorflow.python.keras.callbacks.History at 0x7fda9a1a7780>"
            ]
          },
          "metadata": {
            "tags": []
          },
          "execution_count": 25
        }
      ]
    },
    {
      "cell_type": "code",
      "metadata": {
        "id": "baudN5xIH5H9",
        "colab_type": "code",
        "colab": {
          "base_uri": "https://localhost:8080/",
          "height": 544
        },
        "outputId": "bb4d6c40-b24e-412a-8635-5f7309e6b92e"
      },
      "source": [
        "#Выполнение пункта 2 задания\n",
        "#Создаю последовательную модель нейронной сети на 100 нейронов во внутреннем слое\n",
        "linear100NeuronsNet=Sequential()\n",
        "linear100NeuronsNet.add(Dense(100,input_dim=784,activation='linear'))\n",
        "linear100NeuronsNet.add(Dense(10,activation='softmax'))\n",
        "linear100NeuronsNet.compile(loss='categorical_crossentropy',optimizer='adam',metrics=['accuracy'])\n",
        "linear100NeuronsNet.fit(x_train,y_train,batch_size=128,epochs=15,verbose=1,validation_split=0.2)"
      ],
      "execution_count": null,
      "outputs": [
        {
          "output_type": "stream",
          "text": [
            "Epoch 1/15\n",
            "375/375 [==============================] - 1s 3ms/step - loss: 0.4464 - accuracy: 0.8716 - val_loss: 0.2925 - val_accuracy: 0.9188\n",
            "Epoch 2/15\n",
            "375/375 [==============================] - 1s 3ms/step - loss: 0.2991 - accuracy: 0.9153 - val_loss: 0.2814 - val_accuracy: 0.9200\n",
            "Epoch 3/15\n",
            "375/375 [==============================] - 1s 3ms/step - loss: 0.2831 - accuracy: 0.9204 - val_loss: 0.2754 - val_accuracy: 0.9247\n",
            "Epoch 4/15\n",
            "375/375 [==============================] - 1s 3ms/step - loss: 0.2765 - accuracy: 0.9236 - val_loss: 0.2720 - val_accuracy: 0.9252\n",
            "Epoch 5/15\n",
            "375/375 [==============================] - 1s 3ms/step - loss: 0.2716 - accuracy: 0.9237 - val_loss: 0.2694 - val_accuracy: 0.9277\n",
            "Epoch 6/15\n",
            "375/375 [==============================] - 1s 3ms/step - loss: 0.2666 - accuracy: 0.9261 - val_loss: 0.2705 - val_accuracy: 0.9277\n",
            "Epoch 7/15\n",
            "375/375 [==============================] - 1s 3ms/step - loss: 0.2630 - accuracy: 0.9262 - val_loss: 0.2757 - val_accuracy: 0.9241\n",
            "Epoch 8/15\n",
            "375/375 [==============================] - 1s 3ms/step - loss: 0.2611 - accuracy: 0.9265 - val_loss: 0.2703 - val_accuracy: 0.9257\n",
            "Epoch 9/15\n",
            "375/375 [==============================] - 1s 3ms/step - loss: 0.2588 - accuracy: 0.9273 - val_loss: 0.2724 - val_accuracy: 0.9269\n",
            "Epoch 10/15\n",
            "375/375 [==============================] - 1s 3ms/step - loss: 0.2556 - accuracy: 0.9293 - val_loss: 0.2723 - val_accuracy: 0.9274\n",
            "Epoch 11/15\n",
            "375/375 [==============================] - 1s 3ms/step - loss: 0.2557 - accuracy: 0.9287 - val_loss: 0.2900 - val_accuracy: 0.9222\n",
            "Epoch 12/15\n",
            "375/375 [==============================] - 1s 3ms/step - loss: 0.2538 - accuracy: 0.9280 - val_loss: 0.2777 - val_accuracy: 0.9263\n",
            "Epoch 13/15\n",
            "375/375 [==============================] - 1s 3ms/step - loss: 0.2518 - accuracy: 0.9291 - val_loss: 0.2708 - val_accuracy: 0.9282\n",
            "Epoch 14/15\n",
            "375/375 [==============================] - 1s 3ms/step - loss: 0.2492 - accuracy: 0.9296 - val_loss: 0.2780 - val_accuracy: 0.9247\n",
            "Epoch 15/15\n",
            "375/375 [==============================] - 1s 3ms/step - loss: 0.2510 - accuracy: 0.9292 - val_loss: 0.2761 - val_accuracy: 0.9246\n"
          ],
          "name": "stdout"
        },
        {
          "output_type": "execute_result",
          "data": {
            "text/plain": [
              "<tensorflow.python.keras.callbacks.History at 0x7fda9a09bf28>"
            ]
          },
          "metadata": {
            "tags": []
          },
          "execution_count": 26
        }
      ]
    },
    {
      "cell_type": "code",
      "metadata": {
        "id": "kiybRCexJlqF",
        "colab_type": "code",
        "colab": {
          "base_uri": "https://localhost:8080/",
          "height": 544
        },
        "outputId": "43d872a9-0d3b-4eba-d9a3-1c22ee60d6f8"
      },
      "source": [
        "#Выполнение пункта 2 задания\n",
        "#Создаю последовательную модель нейронной сети на 100 нейронов во внутреннем слое\n",
        "linear5000NeuronsNet=Sequential()\n",
        "linear5000NeuronsNet.add(Dense(5000,input_dim=784,activation='linear'))\n",
        "linear5000NeuronsNet.add(Dense(10,activation='softmax'))\n",
        "linear5000NeuronsNet.compile(loss='categorical_crossentropy',optimizer='adam',metrics=['accuracy'])\n",
        "linear5000NeuronsNet.fit(x_train,y_train,batch_size=128,epochs=15,verbose=1,validation_split=0.2)"
      ],
      "execution_count": null,
      "outputs": [
        {
          "output_type": "stream",
          "text": [
            "Epoch 1/15\n",
            "375/375 [==============================] - 2s 4ms/step - loss: 0.4082 - accuracy: 0.8832 - val_loss: 0.3113 - val_accuracy: 0.9116\n",
            "Epoch 2/15\n",
            "375/375 [==============================] - 1s 4ms/step - loss: 0.3376 - accuracy: 0.9043 - val_loss: 0.3147 - val_accuracy: 0.9133\n",
            "Epoch 3/15\n",
            "375/375 [==============================] - 1s 4ms/step - loss: 0.3267 - accuracy: 0.9077 - val_loss: 0.3300 - val_accuracy: 0.9085\n",
            "Epoch 4/15\n",
            "375/375 [==============================] - 1s 4ms/step - loss: 0.3149 - accuracy: 0.9121 - val_loss: 0.3104 - val_accuracy: 0.9153\n",
            "Epoch 5/15\n",
            "375/375 [==============================] - 1s 4ms/step - loss: 0.3083 - accuracy: 0.9127 - val_loss: 0.3334 - val_accuracy: 0.9096\n",
            "Epoch 6/15\n",
            "375/375 [==============================] - 1s 4ms/step - loss: 0.3061 - accuracy: 0.9135 - val_loss: 0.3064 - val_accuracy: 0.9172\n",
            "Epoch 7/15\n",
            "375/375 [==============================] - 1s 4ms/step - loss: 0.3000 - accuracy: 0.9151 - val_loss: 0.3178 - val_accuracy: 0.9137\n",
            "Epoch 8/15\n",
            "375/375 [==============================] - 1s 4ms/step - loss: 0.3002 - accuracy: 0.9140 - val_loss: 0.2999 - val_accuracy: 0.9182\n",
            "Epoch 9/15\n",
            "375/375 [==============================] - 1s 4ms/step - loss: 0.2906 - accuracy: 0.9182 - val_loss: 0.3102 - val_accuracy: 0.9131\n",
            "Epoch 10/15\n",
            "375/375 [==============================] - 1s 4ms/step - loss: 0.2877 - accuracy: 0.9178 - val_loss: 0.3024 - val_accuracy: 0.9213\n",
            "Epoch 11/15\n",
            "375/375 [==============================] - 1s 4ms/step - loss: 0.2828 - accuracy: 0.9195 - val_loss: 0.3060 - val_accuracy: 0.9199\n",
            "Epoch 12/15\n",
            "375/375 [==============================] - 1s 4ms/step - loss: 0.2842 - accuracy: 0.9199 - val_loss: 0.3013 - val_accuracy: 0.9181\n",
            "Epoch 13/15\n",
            "375/375 [==============================] - 1s 4ms/step - loss: 0.2834 - accuracy: 0.9195 - val_loss: 0.3002 - val_accuracy: 0.9189\n",
            "Epoch 14/15\n",
            "375/375 [==============================] - 1s 4ms/step - loss: 0.2780 - accuracy: 0.9215 - val_loss: 0.2947 - val_accuracy: 0.9200\n",
            "Epoch 15/15\n",
            "375/375 [==============================] - 1s 4ms/step - loss: 0.2803 - accuracy: 0.9223 - val_loss: 0.3006 - val_accuracy: 0.9179\n"
          ],
          "name": "stdout"
        },
        {
          "output_type": "execute_result",
          "data": {
            "text/plain": [
              "<tensorflow.python.keras.callbacks.History at 0x7fdaf0178160>"
            ]
          },
          "metadata": {
            "tags": []
          },
          "execution_count": 27
        }
      ]
    },
    {
      "cell_type": "markdown",
      "metadata": {
        "id": "NHx7aLKeKXa7",
        "colab_type": "text"
      },
      "source": [
        "---\n",
        "\n",
        "$\\Big|........Model\\Big........|.loss.|Accurasy |val\\_loss|val\\_accuracy| Times .|$   \n",
        "\n",
        "---\n",
        "\n",
        "\n",
        "$\\Big|.relu10NeuronsNet.| 0.2316 |..0.9345.|.0.2439.|....0.9305...| 1 s 02 ms |$\n",
        "\n",
        "---\n",
        "$|relu100NeuronsNet.| 0.0231 |..0.9947.|.0.1001.|....0.9718...| 1 s 03 ms |$\n",
        "\n",
        "---\n",
        "$\\Big| relu5000NeuronsNet  \\Big| 0.0069 |..0.9979.|.0.1389.|....0.9749...| 22 s 60 ms |$\n",
        "\n",
        "---\n",
        "\n",
        "$\\Big|.linear10NeuronsNet.| 0.2512 |..0.9296.|.0.2629.|....0.9297...| 1 s 04 ms |$\n",
        "\n",
        "---\n",
        "$|linear100NeuronsNet.| 0.2493 |..0.9306.|.0.2753.|....0.9270...| 1 s 04 ms |$\n",
        "\n",
        "---\n",
        "$\\Big| linear5000NeuronsNet  \\Big| 0.2783 |..0.9206.|.0.3038.|....0.9174...| 3 s 7 ms |$\n",
        "\n",
        "---"
      ]
    },
    {
      "cell_type": "markdown",
      "metadata": {
        "id": "0kYA2NNjL64N",
        "colab_type": "text"
      },
      "source": [
        "Из табличных данных видно, что линейная функция активации в данном случае показывает сравнительно более плохие результаты. И этот результат никак не приближается к точностям, полученным в моделях с активационной функцией RELU. Брать данную функцию в качестве активационной в данной задаче не следует. Более того, на данном примере хорошо видно, что количество не всегда хорошо действует на качество. Модель с 5000 нейронов хуже даже модели с 10 нейронами во внутреннем слое."
      ]
    },
    {
      "cell_type": "markdown",
      "metadata": {
        "id": "mYkhVBuaa95E",
        "colab_type": "text"
      },
      "source": [
        "####Задание 3"
      ]
    },
    {
      "cell_type": "markdown",
      "metadata": {
        "id": "7iXe1vtNcWtg",
        "colab_type": "text"
      },
      "source": [
        "Поменяйте размеры batch_size\n",
        "Возьмем в качестве примера модель с 250 нейронами во внутреннем слое и активационной функцией RELU. Проанализируем действие данного критерия на ней:"
      ]
    },
    {
      "cell_type": "code",
      "metadata": {
        "id": "a1-yvWcmcytn",
        "colab_type": "code",
        "colab": {
          "base_uri": "https://localhost:8080/",
          "height": 544
        },
        "outputId": "f570ed07-afa9-4e73-fd50-b0a65522710b"
      },
      "source": [
        "#Меняем количество батчей на 1\n",
        "batch1Relu250=Sequential()\n",
        "batch1Relu250.add(Dense(250,input_dim=784,activation='relu'))\n",
        "batch1Relu250.add(Dense(10,activation='softmax'))\n",
        "batch1Relu250.compile(loss='categorical_crossentropy',optimizer='adam',metrics=['accuracy'])\n",
        "batch1Relu250.fit(x_train,y_train,batch_size=1,epochs=15,verbose=1,validation_split=0.2)"
      ],
      "execution_count": null,
      "outputs": [
        {
          "output_type": "stream",
          "text": [
            "Epoch 1/15\n",
            "48000/48000 [==============================] - 111s 2ms/step - loss: 0.2280 - accuracy: 0.9337 - val_loss: 0.1517 - val_accuracy: 0.9613\n",
            "Epoch 2/15\n",
            "48000/48000 [==============================] - 114s 2ms/step - loss: 0.1359 - accuracy: 0.9652 - val_loss: 0.1600 - val_accuracy: 0.9658\n",
            "Epoch 3/15\n",
            "48000/48000 [==============================] - 113s 2ms/step - loss: 0.1144 - accuracy: 0.9732 - val_loss: 0.1521 - val_accuracy: 0.9707\n",
            "Epoch 4/15\n",
            "48000/48000 [==============================] - 113s 2ms/step - loss: 0.0930 - accuracy: 0.9788 - val_loss: 0.1712 - val_accuracy: 0.9682\n",
            "Epoch 5/15\n",
            "48000/48000 [==============================] - 111s 2ms/step - loss: 0.0843 - accuracy: 0.9820 - val_loss: 0.2149 - val_accuracy: 0.9698\n",
            "Epoch 6/15\n",
            "48000/48000 [==============================] - 110s 2ms/step - loss: 0.0776 - accuracy: 0.9846 - val_loss: 0.2579 - val_accuracy: 0.9687\n",
            "Epoch 7/15\n",
            "48000/48000 [==============================] - 113s 2ms/step - loss: 0.0696 - accuracy: 0.9866 - val_loss: 0.2244 - val_accuracy: 0.9727\n",
            "Epoch 8/15\n",
            "48000/48000 [==============================] - 112s 2ms/step - loss: 0.0647 - accuracy: 0.9879 - val_loss: 0.3039 - val_accuracy: 0.9697\n",
            "Epoch 9/15\n",
            "48000/48000 [==============================] - 110s 2ms/step - loss: 0.0591 - accuracy: 0.9890 - val_loss: 0.2481 - val_accuracy: 0.9747\n",
            "Epoch 10/15\n",
            "48000/48000 [==============================] - 111s 2ms/step - loss: 0.0549 - accuracy: 0.9900 - val_loss: 0.3528 - val_accuracy: 0.9712\n",
            "Epoch 11/15\n",
            "48000/48000 [==============================] - 110s 2ms/step - loss: 0.0550 - accuracy: 0.9906 - val_loss: 0.3159 - val_accuracy: 0.9742\n",
            "Epoch 12/15\n",
            "48000/48000 [==============================] - 110s 2ms/step - loss: 0.0489 - accuracy: 0.9915 - val_loss: 0.4063 - val_accuracy: 0.9712\n",
            "Epoch 13/15\n",
            "48000/48000 [==============================] - 112s 2ms/step - loss: 0.0548 - accuracy: 0.9917 - val_loss: 0.3951 - val_accuracy: 0.9726\n",
            "Epoch 14/15\n",
            "48000/48000 [==============================] - 110s 2ms/step - loss: 0.0535 - accuracy: 0.9920 - val_loss: 0.3380 - val_accuracy: 0.9746\n",
            "Epoch 15/15\n",
            "48000/48000 [==============================] - 111s 2ms/step - loss: 0.0409 - accuracy: 0.9934 - val_loss: 0.3671 - val_accuracy: 0.9745\n"
          ],
          "name": "stdout"
        },
        {
          "output_type": "execute_result",
          "data": {
            "text/plain": [
              "<tensorflow.python.keras.callbacks.History at 0x7fdaaa0aae48>"
            ]
          },
          "metadata": {
            "tags": []
          },
          "execution_count": 28
        }
      ]
    },
    {
      "cell_type": "markdown",
      "metadata": {
        "id": "rOqBB675mE4T",
        "colab_type": "text"
      },
      "source": [
        "Вывод по batch_size=1: все 60000 примеров обучающей выборки нейронная сеть гоняла по одной в наборе... Крайне долго и совершенно безрезультатно для обучения. Такой вариант не следует рассматривать в принципе (считала 30 минут, а результат хуже, чем с батчем размером 15, который в примере 1). Причем лежит за пределами допуска оговоренной точности модели."
      ]
    },
    {
      "cell_type": "code",
      "metadata": {
        "id": "pVMt2hleeF3t",
        "colab_type": "code",
        "colab": {
          "base_uri": "https://localhost:8080/",
          "height": 544
        },
        "outputId": "afed573d-818d-4cc9-f2dc-b69abd96393a"
      },
      "source": [
        "#Меняем количество батчей на 10\n",
        "batch10Relu250=Sequential()\n",
        "batch10Relu250.add(Dense(250,input_dim=784,activation='relu'))\n",
        "batch10Relu250.add(Dense(10,activation='softmax'))\n",
        "batch10Relu250.compile(loss='categorical_crossentropy',optimizer='adam',metrics=['accuracy'])\n",
        "batch10Relu250.fit(x_train,y_train,batch_size=10,epochs=15,verbose=1,validation_split=0.2)"
      ],
      "execution_count": null,
      "outputs": [
        {
          "output_type": "stream",
          "text": [
            "Epoch 1/15\n",
            "4800/4800 [==============================] - 11s 2ms/step - loss: 0.2141 - accuracy: 0.9355 - val_loss: 0.1317 - val_accuracy: 0.9582\n",
            "Epoch 2/15\n",
            "4800/4800 [==============================] - 11s 2ms/step - loss: 0.0902 - accuracy: 0.9722 - val_loss: 0.0855 - val_accuracy: 0.9748\n",
            "Epoch 3/15\n",
            "4800/4800 [==============================] - 11s 2ms/step - loss: 0.0599 - accuracy: 0.9811 - val_loss: 0.0912 - val_accuracy: 0.9735\n",
            "Epoch 4/15\n",
            "4800/4800 [==============================] - 11s 2ms/step - loss: 0.0450 - accuracy: 0.9852 - val_loss: 0.0867 - val_accuracy: 0.9778\n",
            "Epoch 5/15\n",
            "4800/4800 [==============================] - 11s 2ms/step - loss: 0.0330 - accuracy: 0.9888 - val_loss: 0.0979 - val_accuracy: 0.9736\n",
            "Epoch 6/15\n",
            "4800/4800 [==============================] - 12s 2ms/step - loss: 0.0271 - accuracy: 0.9910 - val_loss: 0.0972 - val_accuracy: 0.9795\n",
            "Epoch 7/15\n",
            "4800/4800 [==============================] - 11s 2ms/step - loss: 0.0213 - accuracy: 0.9928 - val_loss: 0.1039 - val_accuracy: 0.9761\n",
            "Epoch 8/15\n",
            "4800/4800 [==============================] - 11s 2ms/step - loss: 0.0193 - accuracy: 0.9938 - val_loss: 0.1041 - val_accuracy: 0.9779\n",
            "Epoch 9/15\n",
            "4800/4800 [==============================] - 11s 2ms/step - loss: 0.0163 - accuracy: 0.9947 - val_loss: 0.1275 - val_accuracy: 0.9753\n",
            "Epoch 10/15\n",
            "4800/4800 [==============================] - 11s 2ms/step - loss: 0.0130 - accuracy: 0.9954 - val_loss: 0.1241 - val_accuracy: 0.9759\n",
            "Epoch 11/15\n",
            "4800/4800 [==============================] - 11s 2ms/step - loss: 0.0140 - accuracy: 0.9952 - val_loss: 0.1332 - val_accuracy: 0.9764\n",
            "Epoch 12/15\n",
            "4800/4800 [==============================] - 12s 2ms/step - loss: 0.0107 - accuracy: 0.9964 - val_loss: 0.1319 - val_accuracy: 0.9783\n",
            "Epoch 13/15\n",
            "4800/4800 [==============================] - 11s 2ms/step - loss: 0.0115 - accuracy: 0.9961 - val_loss: 0.1296 - val_accuracy: 0.9785\n",
            "Epoch 14/15\n",
            "4800/4800 [==============================] - 11s 2ms/step - loss: 0.0109 - accuracy: 0.9966 - val_loss: 0.1487 - val_accuracy: 0.9762\n",
            "Epoch 15/15\n",
            "4800/4800 [==============================] - 11s 2ms/step - loss: 0.0094 - accuracy: 0.9971 - val_loss: 0.1631 - val_accuracy: 0.9769\n"
          ],
          "name": "stdout"
        },
        {
          "output_type": "execute_result",
          "data": {
            "text/plain": [
              "<tensorflow.python.keras.callbacks.History at 0x7fda547522e8>"
            ]
          },
          "metadata": {
            "tags": []
          },
          "execution_count": 29
        }
      ]
    },
    {
      "cell_type": "code",
      "metadata": {
        "id": "vAOWZzNqxYAO",
        "colab_type": "code",
        "colab": {
          "base_uri": "https://localhost:8080/",
          "height": 544
        },
        "outputId": "9a69c34c-d517-417b-b601-28c1a2619e1a"
      },
      "source": [
        "#Меняем количество батчей на 100\n",
        "batch100Relu250=Sequential()\n",
        "batch100Relu250.add(Dense(250,input_dim=784,activation='relu'))\n",
        "batch100Relu250.add(Dense(10,activation='softmax'))\n",
        "batch100Relu250.compile(loss='categorical_crossentropy',optimizer='adam',metrics=['accuracy'])\n",
        "batch100Relu250.fit(x_train,y_train,batch_size=100,epochs=15,verbose=1,validation_split=0.2)"
      ],
      "execution_count": null,
      "outputs": [
        {
          "output_type": "stream",
          "text": [
            "Epoch 1/15\n",
            "480/480 [==============================] - 1s 3ms/step - loss: 0.3259 - accuracy: 0.9082 - val_loss: 0.1722 - val_accuracy: 0.9526\n",
            "Epoch 2/15\n",
            "480/480 [==============================] - 1s 3ms/step - loss: 0.1412 - accuracy: 0.9592 - val_loss: 0.1190 - val_accuracy: 0.9663\n",
            "Epoch 3/15\n",
            "480/480 [==============================] - 1s 3ms/step - loss: 0.0953 - accuracy: 0.9727 - val_loss: 0.0991 - val_accuracy: 0.9704\n",
            "Epoch 4/15\n",
            "480/480 [==============================] - 1s 3ms/step - loss: 0.0688 - accuracy: 0.9795 - val_loss: 0.0970 - val_accuracy: 0.9686\n",
            "Epoch 5/15\n",
            "480/480 [==============================] - 1s 3ms/step - loss: 0.0535 - accuracy: 0.9848 - val_loss: 0.0849 - val_accuracy: 0.9731\n",
            "Epoch 6/15\n",
            "480/480 [==============================] - 1s 3ms/step - loss: 0.0414 - accuracy: 0.9882 - val_loss: 0.0784 - val_accuracy: 0.9767\n",
            "Epoch 7/15\n",
            "480/480 [==============================] - 1s 3ms/step - loss: 0.0329 - accuracy: 0.9906 - val_loss: 0.0788 - val_accuracy: 0.9762\n",
            "Epoch 8/15\n",
            "480/480 [==============================] - 1s 3ms/step - loss: 0.0251 - accuracy: 0.9929 - val_loss: 0.0864 - val_accuracy: 0.9755\n",
            "Epoch 9/15\n",
            "480/480 [==============================] - 1s 3ms/step - loss: 0.0197 - accuracy: 0.9949 - val_loss: 0.0770 - val_accuracy: 0.9770\n",
            "Epoch 10/15\n",
            "480/480 [==============================] - 1s 3ms/step - loss: 0.0161 - accuracy: 0.9961 - val_loss: 0.0766 - val_accuracy: 0.9772\n",
            "Epoch 11/15\n",
            "480/480 [==============================] - 1s 3ms/step - loss: 0.0128 - accuracy: 0.9972 - val_loss: 0.0769 - val_accuracy: 0.9779\n",
            "Epoch 12/15\n",
            "480/480 [==============================] - 1s 3ms/step - loss: 0.0095 - accuracy: 0.9980 - val_loss: 0.0827 - val_accuracy: 0.9781\n",
            "Epoch 13/15\n",
            "480/480 [==============================] - 1s 3ms/step - loss: 0.0080 - accuracy: 0.9985 - val_loss: 0.0791 - val_accuracy: 0.9781\n",
            "Epoch 14/15\n",
            "480/480 [==============================] - 1s 3ms/step - loss: 0.0059 - accuracy: 0.9991 - val_loss: 0.0856 - val_accuracy: 0.9783\n",
            "Epoch 15/15\n",
            "480/480 [==============================] - 1s 3ms/step - loss: 0.0056 - accuracy: 0.9989 - val_loss: 0.0808 - val_accuracy: 0.9793\n"
          ],
          "name": "stdout"
        },
        {
          "output_type": "execute_result",
          "data": {
            "text/plain": [
              "<tensorflow.python.keras.callbacks.History at 0x7fda54620908>"
            ]
          },
          "metadata": {
            "tags": []
          },
          "execution_count": 30
        }
      ]
    },
    {
      "cell_type": "code",
      "metadata": {
        "id": "p_HKJdc9xwBt",
        "colab_type": "code",
        "colab": {
          "base_uri": "https://localhost:8080/",
          "height": 544
        },
        "outputId": "7161b279-08b4-46ab-e331-21f971709e08"
      },
      "source": [
        "#Меняем количество батчей на 5000\n",
        "batch5000Relu250=Sequential()\n",
        "batch5000Relu250.add(Dense(250,input_dim=784,activation='relu'))\n",
        "batch5000Relu250.add(Dense(10,activation='softmax'))\n",
        "batch5000Relu250.compile(loss='categorical_crossentropy',optimizer='adam',metrics=['accuracy'])\n",
        "batch5000Relu250.fit(x_train,y_train,batch_size=5000,epochs=15,verbose=1,validation_split=0.2)"
      ],
      "execution_count": null,
      "outputs": [
        {
          "output_type": "stream",
          "text": [
            "Epoch 1/15\n",
            "10/10 [==============================] - 0s 23ms/step - loss: 1.6725 - accuracy: 0.5713 - val_loss: 0.9251 - val_accuracy: 0.8263\n",
            "Epoch 2/15\n",
            "10/10 [==============================] - 0s 15ms/step - loss: 0.7286 - accuracy: 0.8330 - val_loss: 0.4942 - val_accuracy: 0.8730\n",
            "Epoch 3/15\n",
            "10/10 [==============================] - 0s 15ms/step - loss: 0.4673 - accuracy: 0.8755 - val_loss: 0.3764 - val_accuracy: 0.8962\n",
            "Epoch 4/15\n",
            "10/10 [==============================] - 0s 15ms/step - loss: 0.3783 - accuracy: 0.8944 - val_loss: 0.3270 - val_accuracy: 0.9097\n",
            "Epoch 5/15\n",
            "10/10 [==============================] - 0s 15ms/step - loss: 0.3318 - accuracy: 0.9064 - val_loss: 0.2963 - val_accuracy: 0.9171\n",
            "Epoch 6/15\n",
            "10/10 [==============================] - 0s 15ms/step - loss: 0.3018 - accuracy: 0.9156 - val_loss: 0.2745 - val_accuracy: 0.9247\n",
            "Epoch 7/15\n",
            "10/10 [==============================] - 0s 15ms/step - loss: 0.2795 - accuracy: 0.9224 - val_loss: 0.2584 - val_accuracy: 0.9286\n",
            "Epoch 8/15\n",
            "10/10 [==============================] - 0s 16ms/step - loss: 0.2620 - accuracy: 0.9274 - val_loss: 0.2444 - val_accuracy: 0.9342\n",
            "Epoch 9/15\n",
            "10/10 [==============================] - 0s 16ms/step - loss: 0.2470 - accuracy: 0.9318 - val_loss: 0.2325 - val_accuracy: 0.9373\n",
            "Epoch 10/15\n",
            "10/10 [==============================] - 0s 15ms/step - loss: 0.2331 - accuracy: 0.9359 - val_loss: 0.2218 - val_accuracy: 0.9392\n",
            "Epoch 11/15\n",
            "10/10 [==============================] - 0s 16ms/step - loss: 0.2208 - accuracy: 0.9394 - val_loss: 0.2123 - val_accuracy: 0.9412\n",
            "Epoch 12/15\n",
            "10/10 [==============================] - 0s 15ms/step - loss: 0.2100 - accuracy: 0.9421 - val_loss: 0.2041 - val_accuracy: 0.9449\n",
            "Epoch 13/15\n",
            "10/10 [==============================] - 0s 14ms/step - loss: 0.1996 - accuracy: 0.9456 - val_loss: 0.1959 - val_accuracy: 0.9462\n",
            "Epoch 14/15\n",
            "10/10 [==============================] - 0s 14ms/step - loss: 0.1904 - accuracy: 0.9474 - val_loss: 0.1896 - val_accuracy: 0.9475\n",
            "Epoch 15/15\n",
            "10/10 [==============================] - 0s 14ms/step - loss: 0.1815 - accuracy: 0.9498 - val_loss: 0.1821 - val_accuracy: 0.9497\n"
          ],
          "name": "stdout"
        },
        {
          "output_type": "execute_result",
          "data": {
            "text/plain": [
              "<tensorflow.python.keras.callbacks.History at 0x7fda5442f160>"
            ]
          },
          "metadata": {
            "tags": []
          },
          "execution_count": 31
        }
      ]
    },
    {
      "cell_type": "code",
      "metadata": {
        "id": "ZZcrsG7byAO9",
        "colab_type": "code",
        "colab": {
          "base_uri": "https://localhost:8080/",
          "height": 544
        },
        "outputId": "f6b3cbe0-58b8-49ea-e97b-0635cb240fe7"
      },
      "source": [
        "#Меняем количество батчей на 60000\n",
        "batch60000Relu250=Sequential()\n",
        "batch60000Relu250.add(Dense(250,input_dim=784,activation='relu'))\n",
        "batch60000Relu250.add(Dense(10,activation='softmax'))\n",
        "batch60000Relu250.compile(loss='categorical_crossentropy',optimizer='adam',metrics=['accuracy'])\n",
        "batch60000Relu250.fit(x_train,y_train,batch_size=60000,epochs=15,verbose=1,validation_split=0.2)"
      ],
      "execution_count": null,
      "outputs": [
        {
          "output_type": "stream",
          "text": [
            "Epoch 1/15\n",
            "1/1 [==============================] - 0s 140ms/step - loss: 2.3367 - accuracy: 0.1615 - val_loss: 2.1126 - val_accuracy: 0.3327\n",
            "Epoch 2/15\n",
            "1/1 [==============================] - 0s 65ms/step - loss: 2.1178 - accuracy: 0.3274 - val_loss: 1.9196 - val_accuracy: 0.5031\n",
            "Epoch 3/15\n",
            "1/1 [==============================] - 0s 53ms/step - loss: 1.9305 - accuracy: 0.4854 - val_loss: 1.7453 - val_accuracy: 0.6247\n",
            "Epoch 4/15\n",
            "1/1 [==============================] - 0s 49ms/step - loss: 1.7613 - accuracy: 0.6022 - val_loss: 1.5846 - val_accuracy: 0.6986\n",
            "Epoch 5/15\n",
            "1/1 [==============================] - 0s 51ms/step - loss: 1.6048 - accuracy: 0.6748 - val_loss: 1.4354 - val_accuracy: 0.7411\n",
            "Epoch 6/15\n",
            "1/1 [==============================] - 0s 56ms/step - loss: 1.4593 - accuracy: 0.7187 - val_loss: 1.2976 - val_accuracy: 0.7725\n",
            "Epoch 7/15\n",
            "1/1 [==============================] - 0s 72ms/step - loss: 1.3247 - accuracy: 0.7473 - val_loss: 1.1720 - val_accuracy: 0.7921\n",
            "Epoch 8/15\n",
            "1/1 [==============================] - 0s 49ms/step - loss: 1.2019 - accuracy: 0.7691 - val_loss: 1.0596 - val_accuracy: 0.8053\n",
            "Epoch 9/15\n",
            "1/1 [==============================] - 0s 51ms/step - loss: 1.0922 - accuracy: 0.7841 - val_loss: 0.9611 - val_accuracy: 0.8133\n",
            "Epoch 10/15\n",
            "1/1 [==============================] - 0s 50ms/step - loss: 0.9959 - accuracy: 0.7961 - val_loss: 0.8761 - val_accuracy: 0.8198\n",
            "Epoch 11/15\n",
            "1/1 [==============================] - 0s 49ms/step - loss: 0.9128 - accuracy: 0.8028 - val_loss: 0.8030 - val_accuracy: 0.8252\n",
            "Epoch 12/15\n",
            "1/1 [==============================] - 0s 55ms/step - loss: 0.8412 - accuracy: 0.8087 - val_loss: 0.7399 - val_accuracy: 0.8325\n",
            "Epoch 13/15\n",
            "1/1 [==============================] - 0s 53ms/step - loss: 0.7794 - accuracy: 0.8167 - val_loss: 0.6853 - val_accuracy: 0.8404\n",
            "Epoch 14/15\n",
            "1/1 [==============================] - 0s 50ms/step - loss: 0.7258 - accuracy: 0.8251 - val_loss: 0.6383 - val_accuracy: 0.8487\n",
            "Epoch 15/15\n",
            "1/1 [==============================] - 0s 51ms/step - loss: 0.6793 - accuracy: 0.8325 - val_loss: 0.5980 - val_accuracy: 0.8553\n"
          ],
          "name": "stdout"
        },
        {
          "output_type": "execute_result",
          "data": {
            "text/plain": [
              "<tensorflow.python.keras.callbacks.History at 0x7fda543384a8>"
            ]
          },
          "metadata": {
            "tags": []
          },
          "execution_count": 32
        }
      ]
    },
    {
      "cell_type": "markdown",
      "metadata": {
        "id": "r87yHzgJyilS",
        "colab_type": "text"
      },
      "source": [
        "Обучение по усреднению слишком большого набора данных приводит к потере точности модели, обучение без усреднения, то есть по 1 элементу слишком трудоемкий процесс и также наблюдается потеря точности, пусть и незначительная."
      ]
    },
    {
      "cell_type": "markdown",
      "metadata": {
        "id": "gEYadKBXzJ-E",
        "colab_type": "text"
      },
      "source": [
        "#### Задание 4"
      ]
    },
    {
      "cell_type": "markdown",
      "metadata": {
        "id": "5FrG_AOkzX44",
        "colab_type": "text"
      },
      "source": [
        "Возьмем в качестве исходного примера ту же модель на 250 нейронов во внутреннем слое с активационной функцией RELU, но уже с batch_size=100, как наилучшуюиз прошлого задания. Посмотрим как повлияет изменение количества эпох на ошибку."
      ]
    },
    {
      "cell_type": "code",
      "metadata": {
        "id": "OatoZBXHzAzw",
        "colab_type": "code",
        "colab": {
          "base_uri": "https://localhost:8080/",
          "height": 51
        },
        "outputId": "e3b74814-de7e-43e3-82fc-e81e2e4129ad"
      },
      "source": [
        "#Меняем количество эпох на 1\n",
        "epochs1Relu250=Sequential()\n",
        "epochs1Relu250.add(Dense(250,input_dim=784,activation='relu'))\n",
        "epochs1Relu250.add(Dense(10,activation='softmax'))\n",
        "epochs1Relu250.compile(loss='categorical_crossentropy',optimizer='adam',metrics=['accuracy'])\n",
        "epochs1Relu250.fit(x_train,y_train,batch_size=100,epochs=1,verbose=1,validation_split=0.2)"
      ],
      "execution_count": null,
      "outputs": [
        {
          "output_type": "stream",
          "text": [
            "480/480 [==============================] - 1s 3ms/step - loss: 0.3217 - accuracy: 0.9097 - val_loss: 0.1699 - val_accuracy: 0.9526\n"
          ],
          "name": "stdout"
        },
        {
          "output_type": "execute_result",
          "data": {
            "text/plain": [
              "<tensorflow.python.keras.callbacks.History at 0x7fda5425ff28>"
            ]
          },
          "metadata": {
            "tags": []
          },
          "execution_count": 33
        }
      ]
    },
    {
      "cell_type": "code",
      "metadata": {
        "id": "PYMytAgt0cu_",
        "colab_type": "code",
        "colab": {
          "base_uri": "https://localhost:8080/",
          "height": 374
        },
        "outputId": "69035cb7-3add-4077-f349-7beb301e21d0"
      },
      "source": [
        "#Меняем количество эпох на 10\n",
        "epochs10Relu250=Sequential()\n",
        "epochs10Relu250.add(Dense(250,input_dim=784,activation='relu'))\n",
        "epochs10Relu250.add(Dense(10,activation='softmax'))\n",
        "epochs10Relu250.compile(loss='categorical_crossentropy',optimizer='adam',metrics=['accuracy'])\n",
        "epochs10Relu250.fit(x_train,y_train,batch_size=100,epochs=10,verbose=1,validation_split=0.2)"
      ],
      "execution_count": null,
      "outputs": [
        {
          "output_type": "stream",
          "text": [
            "Epoch 1/10\n",
            "480/480 [==============================] - 1s 3ms/step - loss: 0.3217 - accuracy: 0.9112 - val_loss: 0.1719 - val_accuracy: 0.9528\n",
            "Epoch 2/10\n",
            "480/480 [==============================] - 1s 3ms/step - loss: 0.1414 - accuracy: 0.9599 - val_loss: 0.1200 - val_accuracy: 0.9651\n",
            "Epoch 3/10\n",
            "480/480 [==============================] - 1s 3ms/step - loss: 0.0961 - accuracy: 0.9723 - val_loss: 0.0984 - val_accuracy: 0.9711\n",
            "Epoch 4/10\n",
            "480/480 [==============================] - 1s 3ms/step - loss: 0.0703 - accuracy: 0.9797 - val_loss: 0.0932 - val_accuracy: 0.9715\n",
            "Epoch 5/10\n",
            "480/480 [==============================] - 1s 3ms/step - loss: 0.0538 - accuracy: 0.9838 - val_loss: 0.0817 - val_accuracy: 0.9747\n",
            "Epoch 6/10\n",
            "480/480 [==============================] - 1s 3ms/step - loss: 0.0412 - accuracy: 0.9888 - val_loss: 0.0827 - val_accuracy: 0.9733\n",
            "Epoch 7/10\n",
            "480/480 [==============================] - 1s 3ms/step - loss: 0.0323 - accuracy: 0.9913 - val_loss: 0.0837 - val_accuracy: 0.9741\n",
            "Epoch 8/10\n",
            "480/480 [==============================] - 1s 3ms/step - loss: 0.0257 - accuracy: 0.9933 - val_loss: 0.0829 - val_accuracy: 0.9729\n",
            "Epoch 9/10\n",
            "480/480 [==============================] - 1s 3ms/step - loss: 0.0210 - accuracy: 0.9945 - val_loss: 0.0805 - val_accuracy: 0.9761\n",
            "Epoch 10/10\n",
            "480/480 [==============================] - 1s 3ms/step - loss: 0.0161 - accuracy: 0.9960 - val_loss: 0.0798 - val_accuracy: 0.9768\n"
          ],
          "name": "stdout"
        },
        {
          "output_type": "execute_result",
          "data": {
            "text/plain": [
              "<tensorflow.python.keras.callbacks.History at 0x7fda540bc3c8>"
            ]
          },
          "metadata": {
            "tags": []
          },
          "execution_count": 34
        }
      ]
    },
    {
      "cell_type": "code",
      "metadata": {
        "id": "JeHuQ5-90wnB",
        "colab_type": "code",
        "colab": {
          "base_uri": "https://localhost:8080/",
          "height": 1000
        },
        "outputId": "49c5f075-16b7-4219-d312-5eabd4192f67"
      },
      "source": [
        "#Меняем количество эпох на 100\n",
        "epochs100Relu250=Sequential()\n",
        "epochs100Relu250.add(Dense(250,input_dim=784,activation='relu'))\n",
        "epochs100Relu250.add(Dense(10,activation='softmax'))\n",
        "epochs100Relu250.compile(loss='categorical_crossentropy',optimizer='adam',metrics=['accuracy'])\n",
        "epochs100Relu250.fit(x_train,y_train,batch_size=100,epochs=100,verbose=1,validation_split=0.2)"
      ],
      "execution_count": null,
      "outputs": [
        {
          "output_type": "stream",
          "text": [
            "Epoch 1/100\n",
            "480/480 [==============================] - 1s 3ms/step - loss: 0.3193 - accuracy: 0.9089 - val_loss: 0.1671 - val_accuracy: 0.9537\n",
            "Epoch 2/100\n",
            "480/480 [==============================] - 1s 3ms/step - loss: 0.1368 - accuracy: 0.9604 - val_loss: 0.1220 - val_accuracy: 0.9644\n",
            "Epoch 3/100\n",
            "480/480 [==============================] - 1s 3ms/step - loss: 0.0931 - accuracy: 0.9734 - val_loss: 0.1070 - val_accuracy: 0.9693\n",
            "Epoch 4/100\n",
            "480/480 [==============================] - 1s 3ms/step - loss: 0.0688 - accuracy: 0.9806 - val_loss: 0.0939 - val_accuracy: 0.9721\n",
            "Epoch 5/100\n",
            "480/480 [==============================] - 1s 3ms/step - loss: 0.0527 - accuracy: 0.9847 - val_loss: 0.0867 - val_accuracy: 0.9739\n",
            "Epoch 6/100\n",
            "480/480 [==============================] - 1s 3ms/step - loss: 0.0410 - accuracy: 0.9882 - val_loss: 0.0801 - val_accuracy: 0.9765\n",
            "Epoch 7/100\n",
            "480/480 [==============================] - 1s 3ms/step - loss: 0.0321 - accuracy: 0.9914 - val_loss: 0.0794 - val_accuracy: 0.9766\n",
            "Epoch 8/100\n",
            "480/480 [==============================] - 1s 3ms/step - loss: 0.0259 - accuracy: 0.9929 - val_loss: 0.0781 - val_accuracy: 0.9765\n",
            "Epoch 9/100\n",
            "480/480 [==============================] - 1s 3ms/step - loss: 0.0200 - accuracy: 0.9950 - val_loss: 0.0764 - val_accuracy: 0.9770\n",
            "Epoch 10/100\n",
            "480/480 [==============================] - 2s 3ms/step - loss: 0.0158 - accuracy: 0.9964 - val_loss: 0.0842 - val_accuracy: 0.9762\n",
            "Epoch 11/100\n",
            "480/480 [==============================] - 1s 3ms/step - loss: 0.0124 - accuracy: 0.9972 - val_loss: 0.0846 - val_accuracy: 0.9762\n",
            "Epoch 12/100\n",
            "480/480 [==============================] - 1s 3ms/step - loss: 0.0097 - accuracy: 0.9981 - val_loss: 0.0829 - val_accuracy: 0.9773\n",
            "Epoch 13/100\n",
            "480/480 [==============================] - 1s 3ms/step - loss: 0.0100 - accuracy: 0.9977 - val_loss: 0.0889 - val_accuracy: 0.9769\n",
            "Epoch 14/100\n",
            "480/480 [==============================] - 1s 3ms/step - loss: 0.0072 - accuracy: 0.9986 - val_loss: 0.0823 - val_accuracy: 0.9794\n",
            "Epoch 15/100\n",
            "480/480 [==============================] - 1s 3ms/step - loss: 0.0056 - accuracy: 0.9990 - val_loss: 0.0839 - val_accuracy: 0.9790\n",
            "Epoch 16/100\n",
            "480/480 [==============================] - 1s 3ms/step - loss: 0.0039 - accuracy: 0.9995 - val_loss: 0.0841 - val_accuracy: 0.9793\n",
            "Epoch 17/100\n",
            "480/480 [==============================] - 1s 3ms/step - loss: 0.0022 - accuracy: 0.9999 - val_loss: 0.0856 - val_accuracy: 0.9800\n",
            "Epoch 18/100\n",
            "480/480 [==============================] - 1s 3ms/step - loss: 0.0019 - accuracy: 0.9999 - val_loss: 0.0852 - val_accuracy: 0.9782\n",
            "Epoch 19/100\n",
            "480/480 [==============================] - 1s 3ms/step - loss: 0.0116 - accuracy: 0.9966 - val_loss: 0.1162 - val_accuracy: 0.9711\n",
            "Epoch 20/100\n",
            "480/480 [==============================] - 1s 3ms/step - loss: 0.0089 - accuracy: 0.9973 - val_loss: 0.0903 - val_accuracy: 0.9780\n",
            "Epoch 21/100\n",
            "480/480 [==============================] - 1s 3ms/step - loss: 0.0022 - accuracy: 0.9997 - val_loss: 0.0926 - val_accuracy: 0.9790\n",
            "Epoch 22/100\n",
            "480/480 [==============================] - 1s 3ms/step - loss: 8.6994e-04 - accuracy: 1.0000 - val_loss: 0.0875 - val_accuracy: 0.9805\n",
            "Epoch 23/100\n",
            "480/480 [==============================] - 1s 3ms/step - loss: 5.1192e-04 - accuracy: 1.0000 - val_loss: 0.0869 - val_accuracy: 0.9803\n",
            "Epoch 24/100\n",
            "480/480 [==============================] - 1s 3ms/step - loss: 4.1197e-04 - accuracy: 1.0000 - val_loss: 0.0879 - val_accuracy: 0.9803\n",
            "Epoch 25/100\n",
            "480/480 [==============================] - 1s 3ms/step - loss: 3.7691e-04 - accuracy: 1.0000 - val_loss: 0.0882 - val_accuracy: 0.9803\n",
            "Epoch 26/100\n",
            "480/480 [==============================] - 1s 3ms/step - loss: 3.2957e-04 - accuracy: 1.0000 - val_loss: 0.0903 - val_accuracy: 0.9802\n",
            "Epoch 27/100\n",
            "480/480 [==============================] - 1s 3ms/step - loss: 0.0160 - accuracy: 0.9951 - val_loss: 0.1082 - val_accuracy: 0.9765\n",
            "Epoch 28/100\n",
            "480/480 [==============================] - 1s 3ms/step - loss: 0.0082 - accuracy: 0.9975 - val_loss: 0.0986 - val_accuracy: 0.9786\n",
            "Epoch 29/100\n",
            "480/480 [==============================] - 1s 3ms/step - loss: 0.0018 - accuracy: 0.9997 - val_loss: 0.0977 - val_accuracy: 0.9788\n",
            "Epoch 30/100\n",
            "480/480 [==============================] - 1s 3ms/step - loss: 5.9626e-04 - accuracy: 1.0000 - val_loss: 0.0941 - val_accuracy: 0.9804\n",
            "Epoch 31/100\n",
            "221/480 [============>.................] - ETA: 0s - loss: 2.7858e-04 - accuracy: 1.0000"
          ],
          "name": "stdout"
        },
        {
          "output_type": "error",
          "ename": "KeyboardInterrupt",
          "evalue": "ignored",
          "traceback": [
            "\u001b[0;31m---------------------------------------------------------------------------\u001b[0m",
            "\u001b[0;31mKeyboardInterrupt\u001b[0m                         Traceback (most recent call last)",
            "\u001b[0;32m<ipython-input-35-9bb912101744>\u001b[0m in \u001b[0;36m<module>\u001b[0;34m()\u001b[0m\n\u001b[1;32m      4\u001b[0m \u001b[0mepochs100Relu250\u001b[0m\u001b[0;34m.\u001b[0m\u001b[0madd\u001b[0m\u001b[0;34m(\u001b[0m\u001b[0mDense\u001b[0m\u001b[0;34m(\u001b[0m\u001b[0;36m10\u001b[0m\u001b[0;34m,\u001b[0m\u001b[0mactivation\u001b[0m\u001b[0;34m=\u001b[0m\u001b[0;34m'softmax'\u001b[0m\u001b[0;34m)\u001b[0m\u001b[0;34m)\u001b[0m\u001b[0;34m\u001b[0m\u001b[0;34m\u001b[0m\u001b[0m\n\u001b[1;32m      5\u001b[0m \u001b[0mepochs100Relu250\u001b[0m\u001b[0;34m.\u001b[0m\u001b[0mcompile\u001b[0m\u001b[0;34m(\u001b[0m\u001b[0mloss\u001b[0m\u001b[0;34m=\u001b[0m\u001b[0;34m'categorical_crossentropy'\u001b[0m\u001b[0;34m,\u001b[0m\u001b[0moptimizer\u001b[0m\u001b[0;34m=\u001b[0m\u001b[0;34m'adam'\u001b[0m\u001b[0;34m,\u001b[0m\u001b[0mmetrics\u001b[0m\u001b[0;34m=\u001b[0m\u001b[0;34m[\u001b[0m\u001b[0;34m'accuracy'\u001b[0m\u001b[0;34m]\u001b[0m\u001b[0;34m)\u001b[0m\u001b[0;34m\u001b[0m\u001b[0;34m\u001b[0m\u001b[0m\n\u001b[0;32m----> 6\u001b[0;31m \u001b[0mepochs100Relu250\u001b[0m\u001b[0;34m.\u001b[0m\u001b[0mfit\u001b[0m\u001b[0;34m(\u001b[0m\u001b[0mx_train\u001b[0m\u001b[0;34m,\u001b[0m\u001b[0my_train\u001b[0m\u001b[0;34m,\u001b[0m\u001b[0mbatch_size\u001b[0m\u001b[0;34m=\u001b[0m\u001b[0;36m100\u001b[0m\u001b[0;34m,\u001b[0m\u001b[0mepochs\u001b[0m\u001b[0;34m=\u001b[0m\u001b[0;36m100\u001b[0m\u001b[0;34m,\u001b[0m\u001b[0mverbose\u001b[0m\u001b[0;34m=\u001b[0m\u001b[0;36m1\u001b[0m\u001b[0;34m,\u001b[0m\u001b[0mvalidation_split\u001b[0m\u001b[0;34m=\u001b[0m\u001b[0;36m0.2\u001b[0m\u001b[0;34m)\u001b[0m\u001b[0;34m\u001b[0m\u001b[0;34m\u001b[0m\u001b[0m\n\u001b[0m",
            "\u001b[0;32m/usr/local/lib/python3.6/dist-packages/tensorflow/python/keras/engine/training.py\u001b[0m in \u001b[0;36m_method_wrapper\u001b[0;34m(self, *args, **kwargs)\u001b[0m\n\u001b[1;32m     64\u001b[0m   \u001b[0;32mdef\u001b[0m \u001b[0m_method_wrapper\u001b[0m\u001b[0;34m(\u001b[0m\u001b[0mself\u001b[0m\u001b[0;34m,\u001b[0m \u001b[0;34m*\u001b[0m\u001b[0margs\u001b[0m\u001b[0;34m,\u001b[0m \u001b[0;34m**\u001b[0m\u001b[0mkwargs\u001b[0m\u001b[0;34m)\u001b[0m\u001b[0;34m:\u001b[0m\u001b[0;34m\u001b[0m\u001b[0;34m\u001b[0m\u001b[0m\n\u001b[1;32m     65\u001b[0m     \u001b[0;32mif\u001b[0m \u001b[0;32mnot\u001b[0m \u001b[0mself\u001b[0m\u001b[0;34m.\u001b[0m\u001b[0m_in_multi_worker_mode\u001b[0m\u001b[0;34m(\u001b[0m\u001b[0;34m)\u001b[0m\u001b[0;34m:\u001b[0m  \u001b[0;31m# pylint: disable=protected-access\u001b[0m\u001b[0;34m\u001b[0m\u001b[0;34m\u001b[0m\u001b[0m\n\u001b[0;32m---> 66\u001b[0;31m       \u001b[0;32mreturn\u001b[0m \u001b[0mmethod\u001b[0m\u001b[0;34m(\u001b[0m\u001b[0mself\u001b[0m\u001b[0;34m,\u001b[0m \u001b[0;34m*\u001b[0m\u001b[0margs\u001b[0m\u001b[0;34m,\u001b[0m \u001b[0;34m**\u001b[0m\u001b[0mkwargs\u001b[0m\u001b[0;34m)\u001b[0m\u001b[0;34m\u001b[0m\u001b[0;34m\u001b[0m\u001b[0m\n\u001b[0m\u001b[1;32m     67\u001b[0m \u001b[0;34m\u001b[0m\u001b[0m\n\u001b[1;32m     68\u001b[0m     \u001b[0;31m# Running inside `run_distribute_coordinator` already.\u001b[0m\u001b[0;34m\u001b[0m\u001b[0;34m\u001b[0m\u001b[0;34m\u001b[0m\u001b[0m\n",
            "\u001b[0;32m/usr/local/lib/python3.6/dist-packages/tensorflow/python/keras/engine/training.py\u001b[0m in \u001b[0;36mfit\u001b[0;34m(self, x, y, batch_size, epochs, verbose, callbacks, validation_split, validation_data, shuffle, class_weight, sample_weight, initial_epoch, steps_per_epoch, validation_steps, validation_batch_size, validation_freq, max_queue_size, workers, use_multiprocessing)\u001b[0m\n\u001b[1;32m    846\u001b[0m                 batch_size=batch_size):\n\u001b[1;32m    847\u001b[0m               \u001b[0mcallbacks\u001b[0m\u001b[0;34m.\u001b[0m\u001b[0mon_train_batch_begin\u001b[0m\u001b[0;34m(\u001b[0m\u001b[0mstep\u001b[0m\u001b[0;34m)\u001b[0m\u001b[0;34m\u001b[0m\u001b[0;34m\u001b[0m\u001b[0m\n\u001b[0;32m--> 848\u001b[0;31m               \u001b[0mtmp_logs\u001b[0m \u001b[0;34m=\u001b[0m \u001b[0mtrain_function\u001b[0m\u001b[0;34m(\u001b[0m\u001b[0miterator\u001b[0m\u001b[0;34m)\u001b[0m\u001b[0;34m\u001b[0m\u001b[0;34m\u001b[0m\u001b[0m\n\u001b[0m\u001b[1;32m    849\u001b[0m               \u001b[0;31m# Catch OutOfRangeError for Datasets of unknown size.\u001b[0m\u001b[0;34m\u001b[0m\u001b[0;34m\u001b[0m\u001b[0;34m\u001b[0m\u001b[0m\n\u001b[1;32m    850\u001b[0m               \u001b[0;31m# This blocks until the batch has finished executing.\u001b[0m\u001b[0;34m\u001b[0m\u001b[0;34m\u001b[0m\u001b[0;34m\u001b[0m\u001b[0m\n",
            "\u001b[0;32m/usr/local/lib/python3.6/dist-packages/tensorflow/python/eager/def_function.py\u001b[0m in \u001b[0;36m__call__\u001b[0;34m(self, *args, **kwds)\u001b[0m\n\u001b[1;32m    578\u001b[0m         \u001b[0mxla_context\u001b[0m\u001b[0;34m.\u001b[0m\u001b[0mExit\u001b[0m\u001b[0;34m(\u001b[0m\u001b[0;34m)\u001b[0m\u001b[0;34m\u001b[0m\u001b[0;34m\u001b[0m\u001b[0m\n\u001b[1;32m    579\u001b[0m     \u001b[0;32melse\u001b[0m\u001b[0;34m:\u001b[0m\u001b[0;34m\u001b[0m\u001b[0;34m\u001b[0m\u001b[0m\n\u001b[0;32m--> 580\u001b[0;31m       \u001b[0mresult\u001b[0m \u001b[0;34m=\u001b[0m \u001b[0mself\u001b[0m\u001b[0;34m.\u001b[0m\u001b[0m_call\u001b[0m\u001b[0;34m(\u001b[0m\u001b[0;34m*\u001b[0m\u001b[0margs\u001b[0m\u001b[0;34m,\u001b[0m \u001b[0;34m**\u001b[0m\u001b[0mkwds\u001b[0m\u001b[0;34m)\u001b[0m\u001b[0;34m\u001b[0m\u001b[0;34m\u001b[0m\u001b[0m\n\u001b[0m\u001b[1;32m    581\u001b[0m \u001b[0;34m\u001b[0m\u001b[0m\n\u001b[1;32m    582\u001b[0m     \u001b[0;32mif\u001b[0m \u001b[0mtracing_count\u001b[0m \u001b[0;34m==\u001b[0m \u001b[0mself\u001b[0m\u001b[0;34m.\u001b[0m\u001b[0m_get_tracing_count\u001b[0m\u001b[0;34m(\u001b[0m\u001b[0;34m)\u001b[0m\u001b[0;34m:\u001b[0m\u001b[0;34m\u001b[0m\u001b[0;34m\u001b[0m\u001b[0m\n",
            "\u001b[0;32m/usr/local/lib/python3.6/dist-packages/tensorflow/python/eager/def_function.py\u001b[0m in \u001b[0;36m_call\u001b[0;34m(self, *args, **kwds)\u001b[0m\n\u001b[1;32m    609\u001b[0m       \u001b[0;31m# In this case we have created variables on the first call, so we run the\u001b[0m\u001b[0;34m\u001b[0m\u001b[0;34m\u001b[0m\u001b[0;34m\u001b[0m\u001b[0m\n\u001b[1;32m    610\u001b[0m       \u001b[0;31m# defunned version which is guaranteed to never create variables.\u001b[0m\u001b[0;34m\u001b[0m\u001b[0;34m\u001b[0m\u001b[0;34m\u001b[0m\u001b[0m\n\u001b[0;32m--> 611\u001b[0;31m       \u001b[0;32mreturn\u001b[0m \u001b[0mself\u001b[0m\u001b[0;34m.\u001b[0m\u001b[0m_stateless_fn\u001b[0m\u001b[0;34m(\u001b[0m\u001b[0;34m*\u001b[0m\u001b[0margs\u001b[0m\u001b[0;34m,\u001b[0m \u001b[0;34m**\u001b[0m\u001b[0mkwds\u001b[0m\u001b[0;34m)\u001b[0m  \u001b[0;31m# pylint: disable=not-callable\u001b[0m\u001b[0;34m\u001b[0m\u001b[0;34m\u001b[0m\u001b[0m\n\u001b[0m\u001b[1;32m    612\u001b[0m     \u001b[0;32melif\u001b[0m \u001b[0mself\u001b[0m\u001b[0;34m.\u001b[0m\u001b[0m_stateful_fn\u001b[0m \u001b[0;32mis\u001b[0m \u001b[0;32mnot\u001b[0m \u001b[0;32mNone\u001b[0m\u001b[0;34m:\u001b[0m\u001b[0;34m\u001b[0m\u001b[0;34m\u001b[0m\u001b[0m\n\u001b[1;32m    613\u001b[0m       \u001b[0;31m# Release the lock early so that multiple threads can perform the call\u001b[0m\u001b[0;34m\u001b[0m\u001b[0;34m\u001b[0m\u001b[0;34m\u001b[0m\u001b[0m\n",
            "\u001b[0;32m/usr/local/lib/python3.6/dist-packages/tensorflow/python/eager/function.py\u001b[0m in \u001b[0;36m__call__\u001b[0;34m(self, *args, **kwargs)\u001b[0m\n\u001b[1;32m   2418\u001b[0m     \u001b[0;32mwith\u001b[0m \u001b[0mself\u001b[0m\u001b[0;34m.\u001b[0m\u001b[0m_lock\u001b[0m\u001b[0;34m:\u001b[0m\u001b[0;34m\u001b[0m\u001b[0;34m\u001b[0m\u001b[0m\n\u001b[1;32m   2419\u001b[0m       \u001b[0mgraph_function\u001b[0m\u001b[0;34m,\u001b[0m \u001b[0margs\u001b[0m\u001b[0;34m,\u001b[0m \u001b[0mkwargs\u001b[0m \u001b[0;34m=\u001b[0m \u001b[0mself\u001b[0m\u001b[0;34m.\u001b[0m\u001b[0m_maybe_define_function\u001b[0m\u001b[0;34m(\u001b[0m\u001b[0margs\u001b[0m\u001b[0;34m,\u001b[0m \u001b[0mkwargs\u001b[0m\u001b[0;34m)\u001b[0m\u001b[0;34m\u001b[0m\u001b[0;34m\u001b[0m\u001b[0m\n\u001b[0;32m-> 2420\u001b[0;31m     \u001b[0;32mreturn\u001b[0m \u001b[0mgraph_function\u001b[0m\u001b[0;34m.\u001b[0m\u001b[0m_filtered_call\u001b[0m\u001b[0;34m(\u001b[0m\u001b[0margs\u001b[0m\u001b[0;34m,\u001b[0m \u001b[0mkwargs\u001b[0m\u001b[0;34m)\u001b[0m  \u001b[0;31m# pylint: disable=protected-access\u001b[0m\u001b[0;34m\u001b[0m\u001b[0;34m\u001b[0m\u001b[0m\n\u001b[0m\u001b[1;32m   2421\u001b[0m \u001b[0;34m\u001b[0m\u001b[0m\n\u001b[1;32m   2422\u001b[0m   \u001b[0;34m@\u001b[0m\u001b[0mproperty\u001b[0m\u001b[0;34m\u001b[0m\u001b[0;34m\u001b[0m\u001b[0m\n",
            "\u001b[0;32m/usr/local/lib/python3.6/dist-packages/tensorflow/python/eager/function.py\u001b[0m in \u001b[0;36m_filtered_call\u001b[0;34m(self, args, kwargs)\u001b[0m\n\u001b[1;32m   1663\u001b[0m          if isinstance(t, (ops.Tensor,\n\u001b[1;32m   1664\u001b[0m                            resource_variable_ops.BaseResourceVariable))),\n\u001b[0;32m-> 1665\u001b[0;31m         self.captured_inputs)\n\u001b[0m\u001b[1;32m   1666\u001b[0m \u001b[0;34m\u001b[0m\u001b[0m\n\u001b[1;32m   1667\u001b[0m   \u001b[0;32mdef\u001b[0m \u001b[0m_call_flat\u001b[0m\u001b[0;34m(\u001b[0m\u001b[0mself\u001b[0m\u001b[0;34m,\u001b[0m \u001b[0margs\u001b[0m\u001b[0;34m,\u001b[0m \u001b[0mcaptured_inputs\u001b[0m\u001b[0;34m,\u001b[0m \u001b[0mcancellation_manager\u001b[0m\u001b[0;34m=\u001b[0m\u001b[0;32mNone\u001b[0m\u001b[0;34m)\u001b[0m\u001b[0;34m:\u001b[0m\u001b[0;34m\u001b[0m\u001b[0;34m\u001b[0m\u001b[0m\n",
            "\u001b[0;32m/usr/local/lib/python3.6/dist-packages/tensorflow/python/eager/function.py\u001b[0m in \u001b[0;36m_call_flat\u001b[0;34m(self, args, captured_inputs, cancellation_manager)\u001b[0m\n\u001b[1;32m   1744\u001b[0m       \u001b[0;31m# No tape is watching; skip to running the function.\u001b[0m\u001b[0;34m\u001b[0m\u001b[0;34m\u001b[0m\u001b[0;34m\u001b[0m\u001b[0m\n\u001b[1;32m   1745\u001b[0m       return self._build_call_outputs(self._inference_function.call(\n\u001b[0;32m-> 1746\u001b[0;31m           ctx, args, cancellation_manager=cancellation_manager))\n\u001b[0m\u001b[1;32m   1747\u001b[0m     forward_backward = self._select_forward_and_backward_functions(\n\u001b[1;32m   1748\u001b[0m         \u001b[0margs\u001b[0m\u001b[0;34m,\u001b[0m\u001b[0;34m\u001b[0m\u001b[0;34m\u001b[0m\u001b[0m\n",
            "\u001b[0;32m/usr/local/lib/python3.6/dist-packages/tensorflow/python/eager/function.py\u001b[0m in \u001b[0;36mcall\u001b[0;34m(self, ctx, args, cancellation_manager)\u001b[0m\n\u001b[1;32m    596\u001b[0m               \u001b[0minputs\u001b[0m\u001b[0;34m=\u001b[0m\u001b[0margs\u001b[0m\u001b[0;34m,\u001b[0m\u001b[0;34m\u001b[0m\u001b[0;34m\u001b[0m\u001b[0m\n\u001b[1;32m    597\u001b[0m               \u001b[0mattrs\u001b[0m\u001b[0;34m=\u001b[0m\u001b[0mattrs\u001b[0m\u001b[0;34m,\u001b[0m\u001b[0;34m\u001b[0m\u001b[0;34m\u001b[0m\u001b[0m\n\u001b[0;32m--> 598\u001b[0;31m               ctx=ctx)\n\u001b[0m\u001b[1;32m    599\u001b[0m         \u001b[0;32melse\u001b[0m\u001b[0;34m:\u001b[0m\u001b[0;34m\u001b[0m\u001b[0;34m\u001b[0m\u001b[0m\n\u001b[1;32m    600\u001b[0m           outputs = execute.execute_with_cancellation(\n",
            "\u001b[0;32m/usr/local/lib/python3.6/dist-packages/tensorflow/python/eager/execute.py\u001b[0m in \u001b[0;36mquick_execute\u001b[0;34m(op_name, num_outputs, inputs, attrs, ctx, name)\u001b[0m\n\u001b[1;32m     58\u001b[0m     \u001b[0mctx\u001b[0m\u001b[0;34m.\u001b[0m\u001b[0mensure_initialized\u001b[0m\u001b[0;34m(\u001b[0m\u001b[0;34m)\u001b[0m\u001b[0;34m\u001b[0m\u001b[0;34m\u001b[0m\u001b[0m\n\u001b[1;32m     59\u001b[0m     tensors = pywrap_tfe.TFE_Py_Execute(ctx._handle, device_name, op_name,\n\u001b[0;32m---> 60\u001b[0;31m                                         inputs, attrs, num_outputs)\n\u001b[0m\u001b[1;32m     61\u001b[0m   \u001b[0;32mexcept\u001b[0m \u001b[0mcore\u001b[0m\u001b[0;34m.\u001b[0m\u001b[0m_NotOkStatusException\u001b[0m \u001b[0;32mas\u001b[0m \u001b[0me\u001b[0m\u001b[0;34m:\u001b[0m\u001b[0;34m\u001b[0m\u001b[0;34m\u001b[0m\u001b[0m\n\u001b[1;32m     62\u001b[0m     \u001b[0;32mif\u001b[0m \u001b[0mname\u001b[0m \u001b[0;32mis\u001b[0m \u001b[0;32mnot\u001b[0m \u001b[0;32mNone\u001b[0m\u001b[0;34m:\u001b[0m\u001b[0;34m\u001b[0m\u001b[0;34m\u001b[0m\u001b[0m\n",
            "\u001b[0;31mKeyboardInterrupt\u001b[0m: "
          ]
        }
      ]
    },
    {
      "cell_type": "markdown",
      "metadata": {
        "id": "YkChTaC61JF6",
        "colab_type": "text"
      },
      "source": [
        "Видно, что в последнем примере мы достигли результата accurasy==1.0  и далее наш итерационный процесс вертится возле минимума, то есть на 25 эпохах можно остановиться в данном случае.\n",
        "\n",
        "В общем и целом данный параметр достаточно сильно влияет на получение удовлетворительных прогнозов нейронной сетью, его не следует делать слишком большим, но и равным 1 тоже брать не стоит, потеря точности 10% - недопустимая роскошь."
      ]
    },
    {
      "cell_type": "markdown",
      "metadata": {
        "id": "t9oS2XUh2R30",
        "colab_type": "text"
      },
      "source": [
        "По результатам проведенных тестов следует сделать следующий вывод: необходимо хорошо понимать с каким набором входных и выходных значений работаем, для того, чтобы подобрать правильную активационную функцию. \n",
        "\n",
        "В любом обучении есть вероятностный фактор, поэтому следует оценивать результат по точности прогнозирования результата и отсюда выбирать количество нейронов во внутренних слоях.\n",
        "\n",
        "Если задаться целью провести исследование без усреднения весов перед каждой переменой весов, то получится долгий процесс обучений, который не даст желаемго результата. Как и усреднение сразу по всем элементам выборки. Поэтому batch_size следует брать не слишком большим, но и не близким к 1.\n",
        "\n",
        "Количество эпох тоже прямым образом сказывается на результатах обучения модели, указав слишком большое значение можно дожидаться результатов уже давно полученного значения или переобучить модель, в результате чего упадет точность результата прогноза.\n"
      ]
    },
    {
      "cell_type": "markdown",
      "metadata": {
        "id": "xjKV8LLe0OEu",
        "colab_type": "text"
      },
      "source": [
        "##****PRO****"
      ]
    },
    {
      "cell_type": "markdown",
      "metadata": {
        "id": "KCRZ3UEG0X-Q",
        "colab_type": "text"
      },
      "source": [
        ">Распознайте рукописную цифру, созданную с помощью графического редактора (например, Paint).\n",
        ">Последовательность шагов:\n",
        ">>1. В графическом редактре рисуем произвольную цифру.\n",
        ">>2. Сохраняем документ и загружаем его в Collaboratory.\n",
        ">>3. С помощью функции image.load_img(path, target_size=(28,28), color_mode='grayscale')\n",
        ">>4. С помощью функции image.img_to_array(img) преобразуем изображение в numpy-массив.\n",
        ">>5. Выполняем инверсию цветов, нормирование и решейп массива.\n",
        ">>6. Выполняем распознавание собственной рукописной цифры.\n",
        "\n",
        ">Реализуйте тот же алгоритм для написанной на листе от руки цифры (для этого необходимо сделать дополнительную предобработку изображения)\n",
        "\n",
        "\n"
      ]
    },
    {
      "cell_type": "code",
      "metadata": {
        "id": "HhhAVoYUjG6a",
        "colab_type": "code",
        "colab": {}
      },
      "source": [
        "from tensorflow.keras import preprocessing\n",
        "from keras.preprocessing.image import ImageDataGenerator"
      ],
      "execution_count": null,
      "outputs": []
    },
    {
      "cell_type": "code",
      "metadata": {
        "id": "r92smJ-2QLvP",
        "colab_type": "code",
        "colab": {}
      },
      "source": [
        "#К нашей обучающей выборке применим генератор, который существенно увеличит количество примеров обучения\n",
        "#Взяла не все параметры, а несколько, на мой взгляд, самых интересных\n",
        "#Смещение от центра по ширине и высоте, увеличение/уменьшение в масштабе, выведение контура изображения с усреднением данных по всему набору\n",
        "bigSample=ImageDataGenerator(width_shift_range=0.1, height_shift_range=0.1,validation_split=0.2,zoom_range=0.5)"
      ],
      "execution_count": null,
      "outputs": []
    },
    {
      "cell_type": "code",
      "metadata": {
        "id": "lJ7EUsffUe76",
        "colab_type": "code",
        "colab": {}
      },
      "source": [
        "(X_train_org, Y_train_org), (X_test_org, Y_test_org) = mnist.load_data()"
      ],
      "execution_count": null,
      "outputs": []
    },
    {
      "cell_type": "code",
      "metadata": {
        "id": "YVKAIy0xUmdF",
        "colab_type": "code",
        "colab": {}
      },
      "source": [
        "X_train_org.resize(60000, 28, 28, 1)\n",
        "Y_train_org.resize(60000,1)\n",
        "X_test_org.resize(10000, 28, 28, 1)\n",
        "Y_test_org.resize(10000,1)\n",
        "Y_test=utils.to_categorical(Y_test_org, 10)"
      ],
      "execution_count": null,
      "outputs": []
    },
    {
      "cell_type": "code",
      "metadata": {
        "id": "EK4_RHKJVxYl",
        "colab_type": "code",
        "colab": {
          "base_uri": "https://localhost:8080/",
          "height": 255
        },
        "outputId": "236f684f-36a9-4e60-e229-20fea8ecff76"
      },
      "source": [
        "newData=bigSample.flow(X_train_org, Y_train_org, batch_size=35000)\n",
        "X_train = X_train_org.reshape(60000,784).astype('float32')/255\n",
        "Y_train=utils.to_categorical(Y_train_org,10)\n",
        "for pic in newData:\n",
        "  pic=pic[0]\n",
        "  break\n",
        "\n",
        "print(newData[0][0].reshape(35000,784).astype('float32')/255)\n",
        "print(utils.to_categorical(newData[0][1],10))"
      ],
      "execution_count": null,
      "outputs": [
        {
          "output_type": "stream",
          "text": [
            "[[0. 0. 0. ... 0. 0. 0.]\n",
            " [0. 0. 0. ... 0. 0. 0.]\n",
            " [0. 0. 0. ... 0. 0. 0.]\n",
            " ...\n",
            " [0. 0. 0. ... 0. 0. 0.]\n",
            " [0. 0. 0. ... 0. 0. 0.]\n",
            " [0. 0. 0. ... 0. 0. 0.]]\n",
            "[[0. 0. 0. ... 0. 0. 0.]\n",
            " [0. 0. 0. ... 0. 0. 0.]\n",
            " [0. 0. 0. ... 0. 0. 0.]\n",
            " ...\n",
            " [0. 0. 0. ... 0. 1. 0.]\n",
            " [0. 0. 0. ... 0. 0. 0.]\n",
            " [0. 0. 0. ... 0. 0. 0.]]\n"
          ],
          "name": "stdout"
        }
      ]
    },
    {
      "cell_type": "code",
      "metadata": {
        "id": "zpwjvsw2w8QQ",
        "colab_type": "code",
        "colab": {
          "base_uri": "https://localhost:8080/",
          "height": 408
        },
        "outputId": "fbe7b60e-4a4d-4ac9-cb12-04489ceaa383"
      },
      "source": [
        "modelMagic=Sequential()\n",
        "modelMagic.add(Dense(784,input_dim=784,activation='relu'))\n",
        "#Чтобы модель не переобучалась вставляю слой, который выкидывает 20% нейронов, выбранных случайно\n",
        "modelMagic.add(Dropout(0.5))\n",
        "modelMagic.add(Dense(128, activation='relu'))\n",
        "modelMagic.add(Dropout(0.5))\n",
        "modelMagic.add(Dense(32, activation='relu'))\n",
        "modelMagic.add(Dropout(0.5))\n",
        "modelMagic.add(Dense(10,activation='softmax'))\n",
        "modelMagic.compile(loss='categorical_crossentropy',optimizer=Adam(lr=0.00005),metrics=['accuracy'])\n",
        "dataTraining=modelMagic.fit(newData[0][0].reshape(35000,784).astype('float32')/255,utils.to_categorical(newData[0][1],10),batch_size=35000,epochs=4000,validation_split=0.2,verbose=False)\n",
        "print(modelMagic.summary())\n"
      ],
      "execution_count": null,
      "outputs": [
        {
          "output_type": "stream",
          "text": [
            "Model: \"sequential_43\"\n",
            "_________________________________________________________________\n",
            "Layer (type)                 Output Shape              Param #   \n",
            "=================================================================\n",
            "dense_135 (Dense)            (None, 784)               615440    \n",
            "_________________________________________________________________\n",
            "dropout_90 (Dropout)         (None, 784)               0         \n",
            "_________________________________________________________________\n",
            "dense_136 (Dense)            (None, 128)               100480    \n",
            "_________________________________________________________________\n",
            "dropout_91 (Dropout)         (None, 128)               0         \n",
            "_________________________________________________________________\n",
            "dense_137 (Dense)            (None, 32)                4128      \n",
            "_________________________________________________________________\n",
            "dropout_92 (Dropout)         (None, 32)                0         \n",
            "_________________________________________________________________\n",
            "dense_138 (Dense)            (None, 10)                330       \n",
            "=================================================================\n",
            "Total params: 720,378\n",
            "Trainable params: 720,378\n",
            "Non-trainable params: 0\n",
            "_________________________________________________________________\n",
            "None\n"
          ],
          "name": "stdout"
        }
      ]
    },
    {
      "cell_type": "code",
      "metadata": {
        "id": "hZ66zMxmi4fE",
        "colab_type": "code",
        "colab": {}
      },
      "source": [
        "#Сохраняем полученные веса модели\n",
        "modelMagic.save_weights('modelMagic.h5')\n",
        "modelMagic.load_weights('modelMagic.h5')"
      ],
      "execution_count": null,
      "outputs": []
    },
    {
      "cell_type": "code",
      "metadata": {
        "id": "2wgt-Wgr9HHx",
        "colab_type": "code",
        "colab": {
          "base_uri": "https://localhost:8080/",
          "height": 105
        },
        "outputId": "0ae1c102-4d2e-4a5f-9658-939d16462b0c"
      },
      "source": [
        "#Попробуем для начала на тестовой выборке\n",
        "magicPrediction=modelMagic(x)\n",
        "prediction=np.argmax(magicPrediction)\n",
        "print(prediction)\n",
        "print(magicPrediction)"
      ],
      "execution_count": null,
      "outputs": [
        {
          "output_type": "stream",
          "text": [
            "6\n",
            "tf.Tensor(\n",
            "[[8.0381583e-11 8.4259577e-15 2.3999819e-12 3.7800733e-13 1.1145036e-09\n",
            "  1.5847714e-14 1.0000000e+00 1.9045991e-12 9.1217572e-12 2.7360284e-16]], shape=(1, 10), dtype=float32)\n"
          ],
          "name": "stdout"
        }
      ]
    },
    {
      "cell_type": "code",
      "metadata": {
        "id": "cgo5W9yfYBQu",
        "colab_type": "code",
        "colab": {
          "base_uri": "https://localhost:8080/",
          "height": 1000
        },
        "outputId": "31240fdd-72e2-42ea-b785-2f6aa5ec49c3"
      },
      "source": [
        "!wget https://raw.githubusercontent.com/PestrikovaTatyana/Figure/master/0.jpg\n",
        "!wget https://raw.githubusercontent.com/PestrikovaTatyana/Figure/master/1.jpg\n",
        "!wget https://raw.githubusercontent.com/PestrikovaTatyana/Figure/master/2.jpg\n",
        "!wget https://raw.githubusercontent.com/PestrikovaTatyana/Figure/master/3.jpg\n",
        "!wget https://raw.githubusercontent.com/PestrikovaTatyana/Figure/master/4.jpg\n",
        "!wget https://raw.githubusercontent.com/PestrikovaTatyana/Figure/master/5.jpg\n",
        "!wget https://raw.githubusercontent.com/PestrikovaTatyana/Figure/master/6.jpg\n",
        "!wget https://raw.githubusercontent.com/PestrikovaTatyana/Figure/master/7.jpg\n",
        "!wget https://raw.githubusercontent.com/PestrikovaTatyana/Figure/master/8.jpg\n",
        "!wget https://raw.githubusercontent.com/PestrikovaTatyana/Figure/master/9.jpg\n",
        "!wget https://raw.githubusercontent.com/PestrikovaTatyana/Figure/master/4_1.jpg\n",
        "!wget https://raw.githubusercontent.com/PestrikovaTatyana/Figure/master/5_1.jpg"
      ],
      "execution_count": null,
      "outputs": [
        {
          "output_type": "stream",
          "text": [
            "--2020-08-06 11:29:53--  https://raw.githubusercontent.com/PestrikovaTatyana/Figure/master/0.jpg\n",
            "Resolving raw.githubusercontent.com (raw.githubusercontent.com)... 151.101.0.133, 151.101.64.133, 151.101.128.133, ...\n",
            "Connecting to raw.githubusercontent.com (raw.githubusercontent.com)|151.101.0.133|:443... connected.\n",
            "HTTP request sent, awaiting response... 200 OK\n",
            "Length: 27060 (26K) [image/jpeg]\n",
            "Saving to: ‘0.jpg’\n",
            "\n",
            "\r0.jpg                 0%[                    ]       0  --.-KB/s               \r0.jpg               100%[===================>]  26.43K  --.-KB/s    in 0.007s  \n",
            "\n",
            "2020-08-06 11:29:53 (3.55 MB/s) - ‘0.jpg’ saved [27060/27060]\n",
            "\n",
            "--2020-08-06 11:29:54--  https://raw.githubusercontent.com/PestrikovaTatyana/Figure/master/1.jpg\n",
            "Resolving raw.githubusercontent.com (raw.githubusercontent.com)... 151.101.0.133, 151.101.64.133, 151.101.128.133, ...\n",
            "Connecting to raw.githubusercontent.com (raw.githubusercontent.com)|151.101.0.133|:443... connected.\n",
            "HTTP request sent, awaiting response... 200 OK\n",
            "Length: 1294 (1.3K) [image/jpeg]\n",
            "Saving to: ‘1.jpg’\n",
            "\n",
            "1.jpg               100%[===================>]   1.26K  --.-KB/s    in 0s      \n",
            "\n",
            "2020-08-06 11:29:54 (89.7 MB/s) - ‘1.jpg’ saved [1294/1294]\n",
            "\n",
            "--2020-08-06 11:29:55--  https://raw.githubusercontent.com/PestrikovaTatyana/Figure/master/2.jpg\n",
            "Resolving raw.githubusercontent.com (raw.githubusercontent.com)... 151.101.0.133, 151.101.64.133, 151.101.128.133, ...\n",
            "Connecting to raw.githubusercontent.com (raw.githubusercontent.com)|151.101.0.133|:443... connected.\n",
            "HTTP request sent, awaiting response... 200 OK\n",
            "Length: 870 [image/jpeg]\n",
            "Saving to: ‘2.jpg’\n",
            "\n",
            "2.jpg               100%[===================>]     870  --.-KB/s    in 0s      \n",
            "\n",
            "2020-08-06 11:29:55 (66.1 MB/s) - ‘2.jpg’ saved [870/870]\n",
            "\n",
            "--2020-08-06 11:29:56--  https://raw.githubusercontent.com/PestrikovaTatyana/Figure/master/3.jpg\n",
            "Resolving raw.githubusercontent.com (raw.githubusercontent.com)... 151.101.0.133, 151.101.64.133, 151.101.128.133, ...\n",
            "Connecting to raw.githubusercontent.com (raw.githubusercontent.com)|151.101.0.133|:443... connected.\n",
            "HTTP request sent, awaiting response... 200 OK\n",
            "Length: 246800 (241K) [image/jpeg]\n",
            "Saving to: ‘3.jpg’\n",
            "\n",
            "3.jpg               100%[===================>] 241.02K  --.-KB/s    in 0.03s   \n",
            "\n",
            "2020-08-06 11:29:57 (7.94 MB/s) - ‘3.jpg’ saved [246800/246800]\n",
            "\n",
            "--2020-08-06 11:29:58--  https://raw.githubusercontent.com/PestrikovaTatyana/Figure/master/4.jpg\n",
            "Resolving raw.githubusercontent.com (raw.githubusercontent.com)... 151.101.0.133, 151.101.64.133, 151.101.128.133, ...\n",
            "Connecting to raw.githubusercontent.com (raw.githubusercontent.com)|151.101.0.133|:443... connected.\n",
            "HTTP request sent, awaiting response... 200 OK\n",
            "Length: 1666 (1.6K) [image/jpeg]\n",
            "Saving to: ‘4.jpg’\n",
            "\n",
            "4.jpg               100%[===================>]   1.63K  --.-KB/s    in 0s      \n",
            "\n",
            "2020-08-06 11:29:58 (43.1 MB/s) - ‘4.jpg’ saved [1666/1666]\n",
            "\n",
            "--2020-08-06 11:29:59--  https://raw.githubusercontent.com/PestrikovaTatyana/Figure/master/5.jpg\n",
            "Resolving raw.githubusercontent.com (raw.githubusercontent.com)... 151.101.0.133, 151.101.64.133, 151.101.128.133, ...\n",
            "Connecting to raw.githubusercontent.com (raw.githubusercontent.com)|151.101.0.133|:443... connected.\n",
            "HTTP request sent, awaiting response... 200 OK\n",
            "Length: 26521 (26K) [image/jpeg]\n",
            "Saving to: ‘5.jpg’\n",
            "\n",
            "5.jpg               100%[===================>]  25.90K  --.-KB/s    in 0.008s  \n",
            "\n",
            "2020-08-06 11:29:59 (3.30 MB/s) - ‘5.jpg’ saved [26521/26521]\n",
            "\n",
            "--2020-08-06 11:30:00--  https://raw.githubusercontent.com/PestrikovaTatyana/Figure/master/6.jpg\n",
            "Resolving raw.githubusercontent.com (raw.githubusercontent.com)... 151.101.0.133, 151.101.64.133, 151.101.128.133, ...\n",
            "Connecting to raw.githubusercontent.com (raw.githubusercontent.com)|151.101.0.133|:443... connected.\n",
            "HTTP request sent, awaiting response... 200 OK\n",
            "Length: 19571 (19K) [image/jpeg]\n",
            "Saving to: ‘6.jpg’\n",
            "\n",
            "6.jpg               100%[===================>]  19.11K  --.-KB/s    in 0.008s  \n",
            "\n",
            "2020-08-06 11:30:01 (2.40 MB/s) - ‘6.jpg’ saved [19571/19571]\n",
            "\n",
            "--2020-08-06 11:30:02--  https://raw.githubusercontent.com/PestrikovaTatyana/Figure/master/7.jpg\n",
            "Resolving raw.githubusercontent.com (raw.githubusercontent.com)... 151.101.0.133, 151.101.64.133, 151.101.128.133, ...\n",
            "Connecting to raw.githubusercontent.com (raw.githubusercontent.com)|151.101.0.133|:443... connected.\n",
            "HTTP request sent, awaiting response... 200 OK\n",
            "Length: 55480 (54K) [image/jpeg]\n",
            "Saving to: ‘7.jpg’\n",
            "\n",
            "7.jpg               100%[===================>]  54.18K  --.-KB/s    in 0.02s   \n",
            "\n",
            "2020-08-06 11:30:02 (3.36 MB/s) - ‘7.jpg’ saved [55480/55480]\n",
            "\n",
            "--2020-08-06 11:30:03--  https://raw.githubusercontent.com/PestrikovaTatyana/Figure/master/8.jpg\n",
            "Resolving raw.githubusercontent.com (raw.githubusercontent.com)... 151.101.0.133, 151.101.64.133, 151.101.128.133, ...\n",
            "Connecting to raw.githubusercontent.com (raw.githubusercontent.com)|151.101.0.133|:443... connected.\n",
            "HTTP request sent, awaiting response... 200 OK\n",
            "Length: 1067 (1.0K) [image/jpeg]\n",
            "Saving to: ‘8.jpg’\n",
            "\n",
            "8.jpg               100%[===================>]   1.04K  --.-KB/s    in 0s      \n",
            "\n",
            "2020-08-06 11:30:03 (69.6 MB/s) - ‘8.jpg’ saved [1067/1067]\n",
            "\n",
            "--2020-08-06 11:30:05--  https://raw.githubusercontent.com/PestrikovaTatyana/Figure/master/9.jpg\n",
            "Resolving raw.githubusercontent.com (raw.githubusercontent.com)... 151.101.0.133, 151.101.64.133, 151.101.128.133, ...\n",
            "Connecting to raw.githubusercontent.com (raw.githubusercontent.com)|151.101.0.133|:443... connected.\n",
            "HTTP request sent, awaiting response... 200 OK\n",
            "Length: 16247 (16K) [image/jpeg]\n",
            "Saving to: ‘9.jpg’\n",
            "\n",
            "9.jpg               100%[===================>]  15.87K  --.-KB/s    in 0.007s  \n",
            "\n",
            "2020-08-06 11:30:05 (2.23 MB/s) - ‘9.jpg’ saved [16247/16247]\n",
            "\n",
            "--2020-08-06 11:30:06--  https://raw.githubusercontent.com/PestrikovaTatyana/Figure/master/4_1.jpg\n",
            "Resolving raw.githubusercontent.com (raw.githubusercontent.com)... 151.101.0.133, 151.101.64.133, 151.101.128.133, ...\n",
            "Connecting to raw.githubusercontent.com (raw.githubusercontent.com)|151.101.0.133|:443... connected.\n",
            "HTTP request sent, awaiting response... 200 OK\n",
            "Length: 271145 (265K) [image/jpeg]\n",
            "Saving to: ‘4_1.jpg’\n",
            "\n",
            "4_1.jpg             100%[===================>] 264.79K  --.-KB/s    in 0.03s   \n",
            "\n",
            "2020-08-06 11:30:06 (8.16 MB/s) - ‘4_1.jpg’ saved [271145/271145]\n",
            "\n",
            "--2020-08-06 11:30:07--  https://raw.githubusercontent.com/PestrikovaTatyana/Figure/master/5_1.jpg\n",
            "Resolving raw.githubusercontent.com (raw.githubusercontent.com)... 151.101.0.133, 151.101.64.133, 151.101.128.133, ...\n",
            "Connecting to raw.githubusercontent.com (raw.githubusercontent.com)|151.101.0.133|:443... connected.\n",
            "HTTP request sent, awaiting response... 200 OK\n",
            "Length: 11484 (11K) [image/jpeg]\n",
            "Saving to: ‘5_1.jpg’\n",
            "\n",
            "5_1.jpg             100%[===================>]  11.21K  --.-KB/s    in 0s      \n",
            "\n",
            "2020-08-06 11:30:08 (126 MB/s) - ‘5_1.jpg’ saved [11484/11484]\n",
            "\n"
          ],
          "name": "stdout"
        }
      ]
    },
    {
      "cell_type": "code",
      "metadata": {
        "id": "KlVHjNI_pXk2",
        "colab_type": "code",
        "colab": {
          "base_uri": "https://localhost:8080/",
          "height": 224
        },
        "outputId": "fa161cc2-22a5-4af7-9648-60a56cab904f"
      },
      "source": [
        "!wget https://raw.githubusercontent.com/PestrikovaTatyana/Figure/master/7.jpg"
      ],
      "execution_count": null,
      "outputs": [
        {
          "output_type": "stream",
          "text": [
            "--2020-08-06 12:08:13--  https://raw.githubusercontent.com/PestrikovaTatyana/Figure/master/7.jpg\n",
            "Resolving raw.githubusercontent.com (raw.githubusercontent.com)... 151.101.0.133, 151.101.64.133, 151.101.128.133, ...\n",
            "Connecting to raw.githubusercontent.com (raw.githubusercontent.com)|151.101.0.133|:443... connected.\n",
            "HTTP request sent, awaiting response... 200 OK\n",
            "Length: 7378 (7.2K) [image/jpeg]\n",
            "Saving to: ‘7.jpg’\n",
            "\n",
            "\r7.jpg                 0%[                    ]       0  --.-KB/s               \r7.jpg               100%[===================>]   7.21K  --.-KB/s    in 0s      \n",
            "\n",
            "2020-08-06 12:08:13 (99.6 MB/s) - ‘7.jpg’ saved [7378/7378]\n",
            "\n"
          ],
          "name": "stdout"
        }
      ]
    },
    {
      "cell_type": "code",
      "metadata": {
        "id": "BBBUq3q-J4sW",
        "colab_type": "code",
        "colab": {}
      },
      "source": [
        "from PIL import ImageOps, ImageChops, Image, ImageDraw, ImageEnhance"
      ],
      "execution_count": null,
      "outputs": []
    },
    {
      "cell_type": "code",
      "metadata": {
        "id": "3-ph0as9ZExC",
        "colab_type": "code",
        "colab": {
          "base_uri": "https://localhost:8080/",
          "height": 1000
        },
        "outputId": "bbac670a-3711-4f46-a908-51412be899f3"
      },
      "source": [
        "#Загружаем картинку\n",
        "#В строке ниже нужно указать любую из подгруженных командой !wget картинок\n",
        "#Примеры цифр 1, 2, 4, 7, 8 нарисованы в paint (цифры были взяты у другого участника курса (Андрея))\n",
        "#Примеры цифр 0, 5, 6, 9 написаны от руки \n",
        "#Примеры цифр 1, 2, 4, 7, 8 нарисованы в paint (цифры были взяты у другого участника курса (Андрея))\n",
        "#Примеры цифр 3, 4_1, 5_1 взяты из интернета и являются предобработанными картинками образов цифр на белом фоне\n",
        "magicFigure=Image.open('9.jpg')\n",
        "#Сразу конвертируем только в канал яркости\n",
        "magicFigure=magicFigure.convert(\"L\")\n",
        "#Инвертируем, так как используем черные цифры на белом фоне, а сеть обучена распознавать негатив\n",
        "magicFigure=ImageChops.invert(magicFigure)\n",
        "#Окружаем цифру прямоугольником (первый этап центрирования и выравнивания изображения)\n",
        "coord=magicFigure.getbbox()\n",
        "#Обрезаем картинку по высоте и ширине\n",
        "#Ширина=coord[2]-coord[0], высота=coord[3]-coord[1]\n",
        "#Методом Quad можно замостить любой четырехугольник в прямоугольник\n",
        "#Мы просто вызываем этот метод и указываем, что в новую область нужно вставить\n",
        "#из старой картинки прямоугольник с координатами лев.верх.точка, лев.ниж.точка, прав.ниж.точка, прав.верх.точка\n",
        "magicFigure=magicFigure.transform((coord[2]-coord[0],coord[3]-coord[1]), Image.QUAD, data=(coord[0],coord[1],coord[0],coord[3],coord[2],coord[3],coord[2],coord[1]))\n",
        "print(magicFigure.size)\n",
        "plt.imshow(magicFigure, cmap='gray')\n",
        "plt.show()\n",
        "#Считаем сколько прямоугольной картинке не хватает до квадрата\n",
        "resizeMeassure=abs(magicFigure.size[0]-magicFigure.size[1])/2\n",
        "print(resizeMeassure)\n",
        "#Делаем новую картинку-квадрат по большей стороне старой, причем заполненной черным цветом\n",
        "#Вставляем нашу обрезанную картинку в квадрат так, чтобы она оказалась по центу\n",
        "#Величина смещения равна половине отрезка, на который увеличилась картинка\n",
        "#Смещение стоит производить только по большей стороне\n",
        "if magicFigure.size[0] > magicFigure.size[1]:\n",
        "  magicFigure2=Image.new( \"L\" , (magicFigure.size[0],magicFigure.size[0]) , color=0 )\n",
        "  magicFigure2.paste(magicFigure,box=(int(resizeMeassure),0))\n",
        "else:\n",
        "  magicFigure2=Image.new( \"L\" , (magicFigure.size[1],magicFigure.size[1]) , color=0 )\n",
        "  magicFigure2.paste(magicFigure,box=(int(resizeMeassure),0))\n",
        "plt.imshow(magicFigure2, cmap='gray')\n",
        "plt.show()\n",
        "#Слишком сильно обрезала сверху, добавляю полосы черные, точнее делаю овую картинку, \n",
        "#которая больше старой и в нее рисую старую, указывая левый верхний угол\n",
        "magicFigure3=Image.new(\"L\",(magicFigure2.size[1]+int(resizeMeassure),magicFigure2.size[1]+int(resizeMeassure)),color=0)\n",
        "magicFigure3.paste(magicFigure2,box=(int(resizeMeassure/2),int(resizeMeassure/2)))\n",
        "plt.imshow(magicFigure3, cmap='gray')\n",
        "plt.show()\n",
        "#Теперь мы готовы изменить размер картинки до 28х28,\n",
        "#для лучшего распознавания еще применим фильтр Image.BILINEAR\n",
        "magicFigure3=magicFigure3.resize((28,28))\n",
        "#Повысим контрастность изображения\n",
        "magicFigure3=ImageOps.autocontrast(magicFigure3,cutoff=3,ignore=None)\n",
        "#А также поработаем над его яркостью\n",
        "magicFigure3=ImageEnhance.Brightness(magicFigure3).enhance(0.95)\n",
        "plt.imshow(magicFigure3, cmap='gray')\n",
        "plt.show()\n",
        "print(coord)          \n",
        "\n",
        "\n"
      ],
      "execution_count": null,
      "outputs": [
        {
          "output_type": "stream",
          "text": [
            "(214, 214)\n"
          ],
          "name": "stdout"
        },
        {
          "output_type": "display_data",
          "data": {
            "image/png": "[encoded data removed]",
            "text/plain": [
              "<Figure size 432x288 with 1 Axes>"
            ]
          },
          "metadata": {
            "tags": [],
            "needs_background": "light"
          }
        },
        {
          "output_type": "stream",
          "text": [
            "0.0\n"
          ],
          "name": "stdout"
        },
        {
          "output_type": "display_data",
          "data": {
            "image/png": "[encoded data removed]",
            "text/plain": [
              "<Figure size 432x288 with 1 Axes>"
            ]
          },
          "metadata": {
            "tags": [],
            "needs_background": "light"
          }
        },
        {
          "output_type": "display_data",
          "data": {
            "image/png": "[encoded data removed]",
            "text/plain": [
              "<Figure size 432x288 with 1 Axes>"
            ]
          },
          "metadata": {
            "tags": [],
            "needs_background": "light"
          }
        },
        {
          "output_type": "display_data",
          "data": {
            "image/png": "[encoded data removed]",
            "text/plain": [
              "<Figure size 432x288 with 1 Axes>"
            ]
          },
          "metadata": {
            "tags": [],
            "needs_background": "light"
          }
        },
        {
          "output_type": "stream",
          "text": [
            "(0, 0, 214, 214)\n"
          ],
          "name": "stdout"
        }
      ]
    },
    {
      "cell_type": "code",
      "metadata": {
        "id": "keFXeS1YdC3x",
        "colab_type": "code",
        "colab": {
          "base_uri": "https://localhost:8080/",
          "height": 51
        },
        "outputId": "5fefadcd-dded-4a0c-c07c-3338cb997b0e"
      },
      "source": [
        "#Ура! Раз мы ужецентрировали наше изображение и изменили его размер на необходимый, получим соответствующий каналу массив\n",
        "magicArray=image.img_to_array(magicFigure3)\n",
        "magicArray= magicArray.astype('float32')\n",
        "print(magicArray.shape)\n",
        "#Нужно получить нормированные значения яркости каждого пикселя, поэтому делим на максимальное значение\n",
        "magicArray=magicArray/255\n",
        "#Итак получили центрированное изображение в негативе, с нормированным массивом\n",
        "#Теперь осталось \"вытянуть массив в строку и проверить как работает наша нейронная сеть\"\n",
        "magicArray=magicArray.reshape(1,784)\n",
        "print(magicArray.shape)"
      ],
      "execution_count": null,
      "outputs": [
        {
          "output_type": "stream",
          "text": [
            "(28, 28, 1)\n",
            "(1, 784)\n"
          ],
          "name": "stdout"
        }
      ]
    },
    {
      "cell_type": "code",
      "metadata": {
        "id": "Q-uskRaTcMXo",
        "colab_type": "code",
        "colab": {
          "base_uri": "https://localhost:8080/",
          "height": 85
        },
        "outputId": "af751b6d-0fbd-477c-c2ab-8049141dfe68"
      },
      "source": [
        "magicPred=modelMagic(magicArray)\n",
        "prediction=np.argmax(magicPred)\n",
        "print(prediction)\n",
        "print(magicPred)"
      ],
      "execution_count": null,
      "outputs": [
        {
          "output_type": "stream",
          "text": [
            "9\n",
            "tf.Tensor(\n",
            "[[0.01563601 0.00939448 0.00693664 0.10217609 0.07747466 0.01872189\n",
            "  0.00729448 0.06179735 0.05129552 0.6492729 ]], shape=(1, 10), dtype=float32)\n"
          ],
          "name": "stdout"
        }
      ]
    },
    {
      "cell_type": "code",
      "metadata": {
        "id": "oIxVnE8o6Njt",
        "colab_type": "code",
        "colab": {
          "base_uri": "https://localhost:8080/",
          "height": 54
        },
        "outputId": "e88c1648-bfd3-46a0-a733-488832a67480"
      },
      "source": [
        "magicFigure2.close\n",
        "magicFigure.close"
      ],
      "execution_count": null,
      "outputs": [
        {
          "output_type": "execute_result",
          "data": {
            "text/plain": [
              "<bound method Image.close of <PIL.Image.Image image mode=L size=43x78 at 0x7FBA53EFD668>>"
            ]
          },
          "metadata": {
            "tags": []
          },
          "execution_count": 36
        }
      ]
    },
    {
      "cell_type": "markdown",
      "metadata": {
        "id": "_pp75skNsW0c",
        "colab_type": "text"
      },
      "source": [
        ">Вывод:сеть смогла распознать большое количество цифр, однако на наборе с цифрами, написанными рукой на листе бумаги, сеть работает хуже. Возможно не сделана качественная предобработка. Следует в дальнейшем поработать над этим.\n",
        "\n",
        ">Работа сети данного задания выполнена с использованием генератора картинок, который позволяет значительно расширить набор загруженных картинок mnist их преобразованными копиями.\n",
        "\n",
        ">Так как набор, на котором обучалась сеть значительно расширился, то и увеличилась архитектура сети. Получила множество результатов, угадывающих картинки, однако, данная сеть представилась мне наиболее \"обучаемой\", а не заучивающей последовательности пикселей."
      ]
    }
  ]
}